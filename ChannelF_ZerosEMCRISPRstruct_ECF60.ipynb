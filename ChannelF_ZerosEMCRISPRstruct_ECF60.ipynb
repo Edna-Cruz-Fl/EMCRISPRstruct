{
  "nbformat": 4,
  "nbformat_minor": 0,
  "metadata": {
    "accelerator": "GPU",
    "colab": {
      "name": "Channel-ZerosEMCRISPRstruct_ECF60.ipynb",
      "provenance": [],
      "collapsed_sections": []
    },
    "kernelspec": {
      "display_name": "Python 3",
      "language": "python",
      "name": "python3"
    },
    "language_info": {
      "codemirror_mode": {
        "name": "ipython",
        "version": 3
      },
      "file_extension": ".py",
      "mimetype": "text/x-python",
      "name": "python",
      "nbconvert_exporter": "python",
      "pygments_lexer": "ipython3",
      "version": "3.6.9"
    }
  },
  "cells": [
    {
      "cell_type": "markdown",
      "metadata": {
        "id": "mZG-Ncm_WdoL"
      },
      "source": [
        "# Data preprocessing\n",
        "\n",
        "Pre-procesamiento del dataset de de 35,821 estructuras CRISPR sin redundancia\n",
        "\n",
        "---\n",
        "### Definición de librerías y funciones"
      ]
    },
    {
      "cell_type": "code",
      "metadata": {
        "id": "Tpt5CowQkdre"
      },
      "source": [
        "import os, cv2, random, re\n",
        "from scipy import stats\n",
        "import numpy as np\n",
        "import pandas as pd\n",
        "#from sklearn.utils import shuffle\n",
        "seed = 123          # for reproducibility\n",
        "np.random.seed(seed)\n",
        "\n",
        "#Data visualization\n",
        "import matplotlib.pyplot as plt\n",
        "import seaborn as sns\n",
        "sns.set(style=\"whitegrid\")\n",
        "\n",
        "#Padding and Truncating\n",
        "from keras.preprocessing import sequence\n",
        "\n",
        "#One hot encoding\n",
        "from keras.utils import np_utils\n",
        "from tensorflow.keras.utils import to_categorical\n",
        "\n",
        "#Model\n",
        "from sklearn.model_selection import train_test_split\n",
        "from keras.models import Sequential, Model, load_model\n",
        "from keras.layers import Dense, Conv2D, MaxPooling2D, Dropout, Flatten\n",
        "from keras.layers.merge import concatenate\n",
        "from keras.regularizers import l1_l2,l2,l1\n",
        "from keras.callbacks import ModelCheckpoint\n",
        "from PIL import Image\n",
        "from keras.utils.vis_utils import plot_model\n",
        "# Import Joblib Module from Scikit Learn\n",
        "import joblib"
      ],
      "execution_count": 1,
      "outputs": []
    },
    {
      "cell_type": "markdown",
      "metadata": {
        "id": "mJHefUMYp_sa"
      },
      "source": [
        "# Definición de funciones\r\n",
        "---"
      ]
    },
    {
      "cell_type": "markdown",
      "metadata": {
        "id": "VTCO-1Vq4wwH"
      },
      "source": [
        "DRtoCSVclass(): función para agregar etiqueta a secuencias extraíadas de un arhcivo FASTA y generar un archivo CSV"
      ]
    },
    {
      "cell_type": "code",
      "metadata": {
        "id": "Ti2MN96hDAXv"
      },
      "source": [
        "def DRtoCSVclass(DRlist):\n",
        "    i=0\n",
        "    DRcount = len(DRlist) - 1\n",
        "    dr = ''\n",
        "    string = ''\n",
        "    #La etiqueta es 1 cuando es positivo y 0 para negativo\n",
        "    label = '1'\n",
        "    \n",
        "    ## =========== Variables para manipular archivo de entrada y salida ===========\n",
        "    ##Rutas pra contabilizar los DirectRepeat de las matrices CRISPR\n",
        "    outputfile = 'EMPositiveRightDR.csv'\n",
        "\n",
        "    ## ====================== Se escribe el archivo de salida =====================\n",
        "    out = open(outputfile, \"w\")\n",
        "    description = 'RightDirectRepeat,Label\\n'\n",
        "    out.write(description)\n",
        "    out.close()\n",
        "    \n",
        "    \n",
        "    for i in range(DRcount):\n",
        "        #aux = aux + 1\n",
        "        dr = DRlist[i]\n",
        "        \n",
        "        #Linea a escribirse en el archivo CSV\n",
        "        string = dr+','+label+'\\n'\n",
        "        \n",
        "        #Se escribe la linea de información al nuevo archivo de salida\n",
        "        out = open(outputfile, 'a')\n",
        "        out.write(string)\n",
        "        out.close()\n",
        "        \n",
        "        #Se vacían las variables auxiliares\n",
        "        dr = ''\n",
        "        string = ''\n",
        "    \n",
        "    \n",
        "    ##Ultima línea\n",
        "    \n",
        "    dr = DRlist[len(DRlist)-1]\n",
        "    #Linea a escribirse en el archivo CSV\n",
        "    string = dr+','+label+'\\n'\n",
        "    \n",
        "    #Se escribe la linea de información al nuevo archivo de salida\n",
        "    out = open(outputfile, 'a')\n",
        "    out.write(string)\n",
        "    out.close()\n",
        "    \n",
        "    dr = ''\n",
        "    string = ''\n",
        "    \n",
        "    print('[INFO] Generación del archivo CSV para secuencias DR de extremo 3 prima con etiqueta finalizada...')"
      ],
      "execution_count": null,
      "outputs": []
    },
    {
      "cell_type": "markdown",
      "metadata": {
        "id": "x858pX5f0XAs"
      },
      "source": [
        "TestToList(): función para leer un archivo FASTA y extraer las secuencias en una sola lista de python"
      ]
    },
    {
      "cell_type": "code",
      "metadata": {
        "id": "WhKhGqAx0Xey"
      },
      "source": [
        "def TextToList(fileName):\n",
        "        dna_list=[]\n",
        "        with open(fileName) as file:\n",
        "       \n",
        "            for line in file:\n",
        "                li=line.strip()\n",
        "                if not li.startswith(\">\"):\n",
        "                    dna_list.append(line.rstrip(\"\\n\"))\n",
        "        file.close()\n",
        "        return dna_list"
      ],
      "execution_count": 2,
      "outputs": []
    },
    {
      "cell_type": "markdown",
      "metadata": {
        "id": "dB0q-YI5Wku6"
      },
      "source": [
        "StringLength(): función para analizar las longitudes de las secuencias de una lista."
      ]
    },
    {
      "cell_type": "code",
      "metadata": {
        "id": "WZqx8uzjkdrf"
      },
      "source": [
        "### StringLength(): función para analizar las longitudes de las secuencias de una lista.\n",
        "def StringLength(vectorlen, vectorseq):\n",
        "    listaux = []\n",
        "    \n",
        "    for i in vectorseq:\n",
        "        #print(i)\n",
        "        length = len(i)\n",
        "        listaux.append(length)\n",
        "        \n",
        "    vectorlen = np.array(listaux)\n",
        "        \n",
        "    return vectorlen"
      ],
      "execution_count": 3,
      "outputs": []
    },
    {
      "cell_type": "markdown",
      "metadata": {
        "id": "SJTvSHq1VcGN"
      },
      "source": [
        "DNAnumeric(): función para realizar encoding de las secuencias de nucleótdios con la nomenclatura IUPAC"
      ]
    },
    {
      "cell_type": "code",
      "metadata": {
        "id": "4ltL5HkQryLm"
      },
      "source": [
        "### DNAnumeric(): función para realizar encoding de las secuencias de nucleótdios con la nomenclatura IUPAC\r\n",
        "def DNAnumeric(seq):\r\n",
        "    #convierte la secuencia DNA en numerica\r\n",
        "    Lette_dict = {'A':1, 'C':2, 'G':3,'T':4, 'U':0,'R':0,'K':0,'Y':0,'M':0,'S':0,'W':0,'B':0,'D':0,'H':0,'V':0,'N':0}\r\n",
        "    seq_list = list(seq)\r\n",
        "    seq_list = [Lette_dict[base] for base in seq_list]\r\n",
        "   \r\n",
        "    return seq_list"
      ],
      "execution_count": 107,
      "outputs": []
    },
    {
      "cell_type": "markdown",
      "metadata": {
        "id": "D3JuP4GaWr_m"
      },
      "source": [
        "ListSeqEncoding(): función que recibe la lista de secuencias del dataset para codificarlas a datos numéricos"
      ]
    },
    {
      "cell_type": "code",
      "metadata": {
        "id": "9AvYSwfLq7eX"
      },
      "source": [
        "### ListSeqEncoding(): función que recibe la lista de secuencias del dataset para codificarlas a datos numéricos\r\n",
        "def ListSeqEncoding(listaseq):\r\n",
        "    listencoding = []\r\n",
        "    arrayencoding = np.array([])\r\n",
        "    \r\n",
        "    for i in listaseq:\r\n",
        "        aux = DNAnumeric(i)\r\n",
        "        listencoding.append(aux)\r\n",
        "        \r\n",
        "    arrayencoding = np.array(listencoding)\r\n",
        "    \r\n",
        "    \r\n",
        "    return arrayencoding"
      ],
      "execution_count": 5,
      "outputs": []
    },
    {
      "cell_type": "markdown",
      "metadata": {
        "id": "AFUDa9wq5Fnk"
      },
      "source": [
        "CSQueryEncoding(): función para codificar las secuencias a clasificar por el modelo propuesto."
      ]
    },
    {
      "cell_type": "code",
      "metadata": {
        "id": "MMlaO_8xtNaT"
      },
      "source": [
        "def CSQueryEncoding(repeat):\r\n",
        "  channels = 1\r\n",
        "  data_rows = 36\r\n",
        "  data_cols = 8\r\n",
        "  #Archivo FASTA a lista\r\n",
        "  #repeat = TextToList(repeat)\r\n",
        "  #Lista con secuencias a vector\r\n",
        "  repeatvect = np.array(repeat)\r\n",
        "\r\n",
        "  ## List sequences processing\r\n",
        "  repeat = ListSeqProcessing(repeatvect)\r\n",
        "\r\n",
        "  ## Reshape to inputs model\r\n",
        "  InputQuery = repeat.reshape(repeat.shape[0], channels, data_rows, data_cols)\r\n",
        "  InputQuery = InputQuery.astype('float32')\r\n",
        "\r\n",
        "  return InputQuery"
      ],
      "execution_count": 72,
      "outputs": []
    },
    {
      "cell_type": "code",
      "metadata": {
        "id": "gKJmQ5Xs6bAr"
      },
      "source": [
        "def CSQueryEncodingRight(repeat):\r\n",
        "  channels = 1\r\n",
        "  data_rows = 36\r\n",
        "  data_cols = 8\r\n",
        "  #Archivo FASTA a lista\r\n",
        "  #repeat = TextToList(repeat)\r\n",
        "  #Lista con secuencias a vector\r\n",
        "  repeatvect = np.array(repeat)\r\n",
        "\r\n",
        "  ## List sequences processing\r\n",
        "  repeat = ListSeqProcessingRight(repeatvect)\r\n",
        "\r\n",
        "  ## Reshape to inputs model\r\n",
        "  InputQuery = repeat.reshape(repeat.shape[0], channels, data_rows, data_cols)\r\n",
        "  InputQuery = InputQuery.astype('float32')\r\n",
        "\r\n",
        "  return InputQuery"
      ],
      "execution_count": 73,
      "outputs": []
    },
    {
      "cell_type": "markdown",
      "metadata": {
        "id": "fOtcCcRx5Y3h"
      },
      "source": [
        "SplitLeftRight(): función que recibe estructuras CRISPR y extrae los DR de los extremos 5' y 3'"
      ]
    },
    {
      "cell_type": "code",
      "metadata": {
        "id": "eMHpe5obgFE_"
      },
      "source": [
        "#Extracción de repetidores en el extremo 5' y del extremo 3'\n",
        "def SplitLeftRight(listCS, lendr):\n",
        "  rightdr = []\n",
        "  leftdr = []\n",
        "\n",
        "  for i in listCS:\n",
        "    #extracción del DR en extremo izquierdo\n",
        "    #print(i)\n",
        "    leftdr.append(i[:lendr])\n",
        "    rightdr.append(i[-lendr:])\n",
        "\n",
        "  \n",
        "  leftdr = np.array(leftdr)\n",
        "  rightdr = np.array(rightdr)\n",
        "\n",
        "  print('[INFO] Extracción de los DR en los extremos en las CRISPRstructs finalizado...')\n",
        "\n",
        "  return leftdr, rightdr"
      ],
      "execution_count": 9,
      "outputs": []
    },
    {
      "cell_type": "code",
      "metadata": {
        "id": "1drebK7T4_1S"
      },
      "source": [
        "#Extracción de repetidores en el extremo 5', espaciador y del extremo 3'\r\n",
        "def SplitLeftRightQuery(listCS, CSlen, lendr):\r\n",
        "  rightdr = []\r\n",
        "  spacers = []\r\n",
        "  leftdr = []\r\n",
        "\r\n",
        "  #cálculo de longitud del spacer para extraer\r\n",
        "  splen = CSlen - (DRlen * 2)\r\n",
        "  spend = DRlen + splen\r\n",
        "\r\n",
        "  for i in listCS:\r\n",
        "    #extracción del DR en extremo izquierdo\r\n",
        "    #print(i)\r\n",
        "    leftdr.append(i[:lendr])\r\n",
        "    spacers.append(i[DRlen:spend])\r\n",
        "    rightdr.append(i[-lendr:])\r\n",
        "\r\n",
        "  \r\n",
        "  leftdr = np.array(leftdr)\r\n",
        "  spacers = np.array(spacers)\r\n",
        "  rightdr = np.array(rightdr)\r\n",
        "\r\n",
        "  print('[INFO] Extracción de los DR en los extremos en las CRISPRstructs finalizado...')\r\n",
        "\r\n",
        "  return leftdr, spacers, rightdr"
      ],
      "execution_count": 10,
      "outputs": []
    },
    {
      "cell_type": "markdown",
      "metadata": {
        "id": "HAt9hc7a5281"
      },
      "source": [
        "CSVofRepeats(): función para generar archivo CSV de la lista de los DR en el extremo 5' y 3' extraídos de las estructuras CRISPR."
      ]
    },
    {
      "cell_type": "code",
      "metadata": {
        "id": "TzqzA5_aFnPq"
      },
      "source": [
        "## Función para generar CSV de los repetidores en el extremo 5' y también 3'\n",
        "#de estructuras CRISPR representantes\n",
        "def CSVofRepeats(listdr):\n",
        "  count = 1\n",
        "  description = 'IDCrisprStruct,DirectRepeat\\n'\n",
        "  string = ''\n",
        "\n",
        "\n",
        "  ##Rutas para almacenar los DR sólo de un extremo\n",
        "  outputfile = 'CrisprStruct_rightdr.csv'\n",
        "  #outputfile = 'CrisprStruct_rightdr.csv'\n",
        "  out = open(outputfile, \"w\")\n",
        "  out.write(description)\n",
        "  out.close()\n",
        "\n",
        "  for i in listdr:\n",
        "    string = 'RightDR_'+str(count)+','+i+'\\n'\n",
        "    count = count + 1\n",
        "    #Se escribe la linea de información al nuevo archivo de salida\n",
        "    out = open(outputfile, 'a')\n",
        "    out.write(string)\n",
        "    out.close()\n",
        "    string = ''\n",
        "\n",
        "  print('[INFO] Generación del archivo CSV para DR de CS finalizada...')"
      ],
      "execution_count": 11,
      "outputs": []
    },
    {
      "cell_type": "markdown",
      "metadata": {
        "id": "heqIIPQKXUPj"
      },
      "source": [
        "ListSeqProcessing(): función que recibe todo el dataset de secuencias de nucleótidos y realizar los siguientes procedimientos:\r\n",
        "\r\n",
        "\r\n",
        "*   Encoding de las secuencias\r\n",
        "*   Padding y truncate de las secunecias\r\n",
        "*   One hot encoding para las secuencias\r\n",
        "\r\n",
        "Este paso se realiza previo al split del dataset"
      ]
    },
    {
      "cell_type": "code",
      "metadata": {
        "colab": {
          "base_uri": "https://localhost:8080/"
        },
        "id": "KpzNxkgsPUiE",
        "outputId": "ee004d17-9a9f-4bbc-cb48-96c959b0688f"
      },
      "source": [
        "example = ['GTCTAAGTCCCTTTAAATGGCGGGGCGTCTTT']\r\n",
        "matrix = ListSeqProcessing(example)\r\n",
        "matrix"
      ],
      "execution_count": 138,
      "outputs": [
        {
          "output_type": "stream",
          "text": [
            "\n",
            "[INFO] Transformación de secuencias a datos numéricos finalizada (0-8)...\n",
            "\n",
            "[INFO] Padding (post) and truncate (pre) for length inputs sequences finished...\n",
            "[INFO] Transformación de vector de secuencias a one-hot encoding (Lx8) finalizada...\n",
            "\n",
            "[INFO] Dimensión de la matriz one-hot enconding para secuencias:  (1, 36, 8)\n"
          ],
          "name": "stdout"
        },
        {
          "output_type": "execute_result",
          "data": {
            "text/plain": [
              "array([[[0., 0., 0., 1., 0., 0., 0., 0.],\n",
              "        [0., 0., 0., 0., 1., 0., 0., 0.],\n",
              "        [0., 0., 1., 0., 0., 0., 0., 0.],\n",
              "        [0., 0., 0., 0., 1., 0., 0., 0.],\n",
              "        [0., 1., 0., 0., 0., 0., 0., 0.],\n",
              "        [0., 1., 0., 0., 0., 0., 0., 0.],\n",
              "        [0., 0., 0., 1., 0., 0., 0., 0.],\n",
              "        [0., 0., 0., 0., 1., 0., 0., 0.],\n",
              "        [0., 0., 1., 0., 0., 0., 0., 0.],\n",
              "        [0., 0., 1., 0., 0., 0., 0., 0.],\n",
              "        [0., 0., 1., 0., 0., 0., 0., 0.],\n",
              "        [0., 0., 0., 0., 1., 0., 0., 0.],\n",
              "        [0., 0., 0., 0., 1., 0., 0., 0.],\n",
              "        [0., 0., 0., 0., 1., 0., 0., 0.],\n",
              "        [0., 1., 0., 0., 0., 0., 0., 0.],\n",
              "        [0., 1., 0., 0., 0., 0., 0., 0.],\n",
              "        [0., 1., 0., 0., 0., 0., 0., 0.],\n",
              "        [0., 0., 0., 0., 1., 0., 0., 0.],\n",
              "        [0., 0., 0., 1., 0., 0., 0., 0.],\n",
              "        [0., 0., 0., 1., 0., 0., 0., 0.],\n",
              "        [0., 0., 1., 0., 0., 0., 0., 0.],\n",
              "        [0., 0., 0., 1., 0., 0., 0., 0.],\n",
              "        [0., 0., 0., 1., 0., 0., 0., 0.],\n",
              "        [0., 0., 0., 1., 0., 0., 0., 0.],\n",
              "        [0., 0., 0., 1., 0., 0., 0., 0.],\n",
              "        [0., 0., 1., 0., 0., 0., 0., 0.],\n",
              "        [0., 0., 0., 1., 0., 0., 0., 0.],\n",
              "        [0., 0., 0., 0., 1., 0., 0., 0.],\n",
              "        [0., 0., 1., 0., 0., 0., 0., 0.],\n",
              "        [0., 0., 0., 0., 1., 0., 0., 0.],\n",
              "        [0., 0., 0., 0., 1., 0., 0., 0.],\n",
              "        [0., 0., 0., 0., 1., 0., 0., 0.],\n",
              "        [1., 0., 0., 0., 0., 0., 0., 0.],\n",
              "        [1., 0., 0., 0., 0., 0., 0., 0.],\n",
              "        [1., 0., 0., 0., 0., 0., 0., 0.],\n",
              "        [1., 0., 0., 0., 0., 0., 0., 0.]]], dtype=float32)"
            ]
          },
          "metadata": {
            "tags": []
          },
          "execution_count": 138
        }
      ]
    },
    {
      "cell_type": "code",
      "metadata": {
        "id": "V9cuYak4sAvi"
      },
      "source": [
        "def ListSeqProcessing(listsequences):\r\n",
        "  X_data = np.array([])\r\n",
        "  ### Encoding de las secuencias a datos numéricos\r\n",
        "  X_data = ListSeqEncoding(listsequences)\r\n",
        "  print('\\n[INFO] Transformación de secuencias a datos numéricos finalizada (0-8)...')\r\n",
        "  #X_data[0:5]\r\n",
        "\r\n",
        "  ### Padding and truncating for length inputs sequences\r\n",
        "  X_data = sequence.pad_sequences(X_data, value=0, maxlen=36, padding=\"post\",truncating=\"pre\")\r\n",
        "  print('\\n[INFO] Padding (post) and truncate (pre) for length inputs sequences finished...')\r\n",
        "  #X_data[0:5,:]\r\n",
        "\r\n",
        "  X_data = np_utils.to_categorical(X_data, num_classes=8)\r\n",
        "  print('[INFO] Transformación de vector de secuencias a one-hot encoding (Lx8) finalizada...\\n')\r\n",
        "  print('[INFO] Dimensión de la matriz one-hot enconding para secuencias: ', X_data.shape)\r\n",
        "\r\n",
        "  return X_data"
      ],
      "execution_count": 139,
      "outputs": []
    },
    {
      "cell_type": "code",
      "metadata": {
        "id": "-V9qkNd356pP"
      },
      "source": [
        "def ListSeqProcessingRight(listsequences):\r\n",
        "  X_data = np.array([])\r\n",
        "  ### Encoding de las secuencias a datos numéricos\r\n",
        "  X_data = ListSeqEncoding(listsequences)\r\n",
        "  print('\\n[INFO] Transformación de secuencias a datos numéricos (0-8) finalizada...')\r\n",
        "  #X_data[0:5]\r\n",
        "\r\n",
        "  ### Padding and truncating for length inputs sequences right\r\n",
        "  X_data = sequence.pad_sequences(X_data, value=0, maxlen=36, padding=\"pre\",truncating=\"pre\")\r\n",
        "  print('\\n[INFO] Padding (pre) and truncate (pre) for length inputs sequences finished...')\r\n",
        "  #X_data[0:5,:]\r\n",
        "\r\n",
        "  X_data = np_utils.to_categorical(X_data, num_classes=8)\r\n",
        "  print('[INFO] Transformación de vector de secuencias a one-hot encoding (Lx8) finalizada...\\n')\r\n",
        "  print('[INFO] Dimensión de la matriz one-hot enconding para secuencias: ', X_data.shape)\r\n",
        "\r\n",
        "  return X_data"
      ],
      "execution_count": 111,
      "outputs": []
    },
    {
      "cell_type": "markdown",
      "metadata": {
        "id": "feLvV9lTWAwM"
      },
      "source": [
        "OutSpacersFASTA() función para recuperar los spacers de las estructuras CRISPR clasificadas correctamente y escribir un archivo FASTA de salida donde el usuario tendrá los spacers para alinear y detectar al fago huésped."
      ]
    },
    {
      "cell_type": "code",
      "metadata": {
        "id": "Ji59V2rXacwo"
      },
      "source": [
        "## OutSpacersFASTA() función para recuperar los spacers de las estructuras CRISPR clasificadas correctamente\r\n",
        "def OutSpacersFASTA(UserPredictions, InSpacers):\r\n",
        "  predictspacer = ''\r\n",
        "  outputfile = 'PredictedSpacers-EMCRISPRstruct.fasta'\r\n",
        "  out = open(outputfile, \"w\")\r\n",
        "  out.close()\r\n",
        "\r\n",
        "  count = 0 #Iterador de lista con los spacers predichos\r\n",
        "\r\n",
        "  for i in UserPredictions:\r\n",
        "    if i > 0.45:\r\n",
        "      #print (i)\r\n",
        "      #print (\">Predicted spacer from CRISPR struct \"+str(count+1)+\"\\n\"+InSpacers[count])\r\n",
        "      predictspacer = \">Predicted spacer from CRISPR struct \"+str(count+1)+\"\\n\"+InSpacers[count]+\"\\n\"\r\n",
        "      #Se escribe la linea de información al nuevo archivo de salida\r\n",
        "      out = open(outputfile, 'a')\r\n",
        "      out.write(predictspacer)\r\n",
        "      out.close()\r\n",
        "    \r\n",
        "    count = count + 1\r\n",
        "\r\n",
        "  print(outputfile)\r\n",
        "  print(\"[INFO] Archivo de salida (FASTA) con spacer predichos finalizado...\")"
      ],
      "execution_count": 16,
      "outputs": []
    },
    {
      "cell_type": "markdown",
      "metadata": {
        "id": "aWIzqHrXX8JH"
      },
      "source": [
        "InputUserData(): función principal para realizar todo el proceso de predicción de fragmentos de estructuras CRISPR de 111 nt desde un archivo FASTA del usuario final al aplicar el modelo entrenado"
      ]
    },
    {
      "cell_type": "code",
      "metadata": {
        "id": "jirdyhmCYely"
      },
      "source": [
        "## InputUserData(): función principal para realizar todo el proceso de predicción de fragmentos\r\n",
        "# de estructuras CRISPR de 111 nt desde un archivo FASTA del usuario final al aplicar el modelo entrenado\r\n",
        "def InputUserData(fastaInput):\r\n",
        "  #Extracción de las secuencias desde el archivo FASTA recibido del usuario\r\n",
        "  Input_listaCS = TextToList(fastaInput)\r\n",
        "  print('[INFO] Cantidad de estructuras CRISPR: ', len(Input_listaCS))\r\n",
        "\r\n",
        "  #Extracción del DR en el extremo 5', spacer y en el extremo 3' en listas separadas\r\n",
        "  InLeftDR, InSpacers, InRightDR = SplitLeftRightQuery(Input_listaCS, CSlen, DRlen)\r\n",
        "\r\n",
        "  #Codificación one-hot de los DR de ambos extremos previo a ser evaluados por el modelo\r\n",
        "  Input_leftDR = CSQueryEncoding(InLeftDR)\r\n",
        "  print(\"[INFO] Codificación de los DR en el extremo izquierda finalizada...\\n\\n\")\r\n",
        "  Input_rightDR = CSQueryEncodingRight(InRightDR)\r\n",
        "  print(\"[INFO] Codificación de los DR en el extremo derecho finalizada...\\n\\n\")\r\n",
        "\r\n",
        "  print(\"[INFO] Inicializando predicciones de las estructuras de entrada...\\n\\n\")\r\n",
        "  Inputpredict = EMCRISPRstructV2.predict([Input_leftDR, Input_rightDR])\r\n",
        "\r\n",
        "  print('Visualización de las predicciones de las estructuras CRISPR de entrada:\\n')\r\n",
        "  sns.scatterplot(data=Inputpredict, legend=False)\r\n",
        "  plt.title('Predicciones para estructuras CRISPR')\r\n",
        "  # Set x-axis label \r\n",
        "  plt.xlabel('Estructuras CRISPR analizadas')\r\n",
        "  # Set y-axis label\r\n",
        "  plt.ylabel('Probabilidad de clasificación binaria')\r\n",
        "\r\n",
        "  OutSpacersFASTA(Inputpredict, InSpacers)"
      ],
      "execution_count": 17,
      "outputs": []
    },
    {
      "cell_type": "markdown",
      "metadata": {
        "id": "iVPUQSidWw9u"
      },
      "source": [
        "# Pre-processing dataset\n",
        "---\n",
        "\n",
        "## Pre procesamiento de estructuras CRISPR\n",
        "\n",
        "Se importan el archivo FASTA que contiene las 35,821 estructuras CRISPR sin redundancia, es decir, cada estructura CRISPR es única.\n"
      ]
    },
    {
      "cell_type": "code",
      "metadata": {
        "colab": {
          "resources": {
            "http://localhost:8080/nbextensions/google.colab/files.js": {
              "data": "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",
              "headers": [
                [
                  "content-type",
                  "application/javascript"
                ]
              ],
              "ok": true,
              "status": 200,
              "status_text": ""
            }
          },
          "base_uri": "https://localhost:8080/",
          "height": 70
        },
        "id": "fmQ9oDJamY9g",
        "outputId": "e72d4c06-422b-4879-a036-90cda415f81f"
      },
      "source": [
        "#Load local CRISPRstruct dataset\n",
        "## Reading the data\n",
        "from google.colab import files\n",
        "uploaded = files.upload()"
      ],
      "execution_count": null,
      "outputs": [
        {
          "output_type": "display_data",
          "data": {
            "text/html": [
              "\n",
              "     <input type=\"file\" id=\"files-2434dcb6-8ac6-4ed5-9982-4890b7d0c166\" name=\"files[]\" multiple disabled\n",
              "        style=\"border:none\" />\n",
              "     <output id=\"result-2434dcb6-8ac6-4ed5-9982-4890b7d0c166\">\n",
              "      Upload widget is only available when the cell has been executed in the\n",
              "      current browser session. Please rerun this cell to enable.\n",
              "      </output>\n",
              "      <script src=\"/nbextensions/google.colab/files.js\"></script> "
            ],
            "text/plain": [
              "<IPython.core.display.HTML object>"
            ]
          },
          "metadata": {
            "tags": []
          }
        },
        {
          "output_type": "stream",
          "text": [
            "Saving CrisprStrcutIDtaxCdhit100.fasta to CrisprStrcutIDtaxCdhit100.fasta\n"
          ],
          "name": "stdout"
        }
      ]
    },
    {
      "cell_type": "markdown",
      "metadata": {
        "id": "iGqF3JssfEJn"
      },
      "source": [
        "Extracción de estructuras CRISPR sin redundancia y almacenarlas en una lista de python"
      ]
    },
    {
      "cell_type": "code",
      "metadata": {
        "colab": {
          "base_uri": "https://localhost:8080/"
        },
        "id": "A7-k-YpkfCw0",
        "outputId": "77d4fade-9908-4730-bf7d-cb79111ae5ea"
      },
      "source": [
        "#Extracción de estructuras CRISPR a una lista\n",
        "fastaCS = 'CrisprStrcutIDtaxCdhit100.fasta'\n",
        "listCS = TextToList(fastaCS)\n",
        "listCS = np.array(listCS)\n",
        "listCS[:5]"
      ],
      "execution_count": null,
      "outputs": [
        {
          "output_type": "execute_result",
          "data": {
            "text/plain": [
              "array(['GTCTAAGTCCCTTTAAATGGCGGGGCGTCTTTCAGAGNNNNNNNNNNNNNNNNNNNNNNNNNNNNNNNNNGTCTTAATCCCCTTAAATGGCGGGGCGTCTTTCAGAG',\n",
              "       'GTCTTAATCCCCTTAAATGGCGGGGCGTCTTTCAGAGNNNNNNNNNNNNNNNNNNNNNNNNNNNNNNNNGTCTTAATCCCCTTAAATGGCGGGGCGTCTTTCAGAG',\n",
              "       'GTCTTAATCCCCTTAAATGGCGGGGCGTCTTTCAGAGNNNNNNNNNNNNNNNNNNNNNNNNNNNNNNNNNNGTCTTAATCCCCTTAAATGGCGGGGCGTCTTTCAGAG',\n",
              "       'GTCTTAATCCCCTTAAATGGCGGGGCGTCTTTCAGAGNNNNNNNNNNNNNNNNNNNNNNNNNNNNNNNNNNNNGTCTTAATCCCCTTAAATGGCGGGGCGTCTTTCAGAG',\n",
              "       'ACATTAACCCCCTAAAATCGCGGGGAGTCTTTCAGAGNNNNNNNNNNNNNNNNNNNNNNNNNNNNNNNNNGTCTTAATCCCCTTAAATGGCGGGGCGTCTTTCAGAG'],\n",
              "      dtype='<U206')"
            ]
          },
          "metadata": {
            "tags": []
          },
          "execution_count": 16
        }
      ]
    },
    {
      "cell_type": "markdown",
      "metadata": {
        "id": "_01B4vi9tM03"
      },
      "source": [
        "Extracción de los DR en los extremos 5' y 3' de las 35,821 estructuras CRISPR"
      ]
    },
    {
      "cell_type": "code",
      "metadata": {
        "colab": {
          "base_uri": "https://localhost:8080/"
        },
        "id": "49SPMSLmxbHD",
        "outputId": "ecf9efc6-bd7d-4964-f749-35c9ef1a487f"
      },
      "source": [
        "#Extraccción de repetidores en los extremos 5' y 3' de una longitud de 36 nucleótidos\n",
        "#correspondiente al tercer cuartil en estadísticas de longitudes de DR\n",
        "lendr = 36\n",
        "leftdr = np.array([])\n",
        "rightdr = np.array([])\n",
        "leftdr, rightdr = SplitLeftRight(listCS, lendr)\n",
        "print(\"Total de DR en extremo 5':\\n\", len(leftdr))\n",
        "print(\"Total de DR en extremo 3':\\n\", len(rightdr))\n",
        "print('Vector de DR de extremo izquierdo (5 prima):\\n')\n",
        "print(leftdr[:5])\n",
        "print('\\nVector de DR de extremo derecho (3 prima):\\n')\n",
        "print(rightdr[:5])"
      ],
      "execution_count": null,
      "outputs": [
        {
          "output_type": "stream",
          "text": [
            "Total de DR en extremo 5':\n",
            " 35821\n",
            "Total de DR en extremo 3':\n",
            " 35821\n",
            "Vector de DR de extremo izquierdo (5 prima):\n",
            "\n",
            "['GTCTAAGTCCCTTTAAATGGCGGGGCGTCTTTCAGA'\n",
            " 'GTCTTAATCCCCTTAAATGGCGGGGCGTCTTTCAGA'\n",
            " 'GTCTTAATCCCCTTAAATGGCGGGGCGTCTTTCAGA'\n",
            " 'GTCTTAATCCCCTTAAATGGCGGGGCGTCTTTCAGA'\n",
            " 'ACATTAACCCCCTAAAATCGCGGGGAGTCTTTCAGA']\n",
            "\n",
            "Vector de DR de extremo derecho (3 prima):\n",
            "\n",
            "['TCTTAATCCCCTTAAATGGCGGGGCGTCTTTCAGAG'\n",
            " 'TCTTAATCCCCTTAAATGGCGGGGCGTCTTTCAGAG'\n",
            " 'TCTTAATCCCCTTAAATGGCGGGGCGTCTTTCAGAG'\n",
            " 'TCTTAATCCCCTTAAATGGCGGGGCGTCTTTCAGAG'\n",
            " 'TCTTAATCCCCTTAAATGGCGGGGCGTCTTTCAGAG']\n"
          ],
          "name": "stdout"
        }
      ]
    },
    {
      "cell_type": "markdown",
      "metadata": {
        "id": "9TScJSO-8uzD"
      },
      "source": [
        "#### Generación de archvio CSV para los 35,821 DR del extremo 5' con su etiqueta positiva (1)"
      ]
    },
    {
      "cell_type": "code",
      "metadata": {
        "colab": {
          "base_uri": "https://localhost:8080/"
        },
        "id": "tjDGUxYHtiCt",
        "outputId": "835d78cd-28f3-4af2-d679-e1c97ecb858e"
      },
      "source": [
        "#Generación de archvio CSV para los 35,821 DR del extremo 5' con su etiqueta positiva (1)\r\n",
        "DRtoCSVclass(leftdr)"
      ],
      "execution_count": null,
      "outputs": [
        {
          "output_type": "stream",
          "text": [
            "[INFO] Generación del archivo CSV para secuencias DR de extremo 5 prima con etiqueta finalizada...\n"
          ],
          "name": "stdout"
        }
      ]
    },
    {
      "cell_type": "markdown",
      "metadata": {
        "id": "jMJqJ7mdvJox"
      },
      "source": [
        "Generación de archvio CSV para los 35,821 DR del extremo 3' con su etiqueta positiva (1)"
      ]
    },
    {
      "cell_type": "code",
      "metadata": {
        "colab": {
          "base_uri": "https://localhost:8080/"
        },
        "id": "SgPYks7ku7Qa",
        "outputId": "db55df0c-15b9-44d4-b67b-05416dcd5811"
      },
      "source": [
        "#Generación de archvio CSV para los 35,821 DR del extremo 3' con su etiqueta positiva (1)\r\n",
        "DRtoCSVclass(rightdr)"
      ],
      "execution_count": null,
      "outputs": [
        {
          "output_type": "stream",
          "text": [
            "[INFO] Generación del archivo CSV para secuencias DR de extremo 3 prima con etiqueta finalizada...\n"
          ],
          "name": "stdout"
        }
      ]
    },
    {
      "cell_type": "markdown",
      "metadata": {
        "id": "O1fFZPcywp0z"
      },
      "source": [
        "## Procesamiento del conjunto de datos\r\n",
        "\r\n",
        "Importando el conjunto de datos de DR en el extremo 5', DR del extremo 3' y el conjunto de datos negativo de CRF con 12mil secuencias y su etiqueta negativa"
      ]
    },
    {
      "cell_type": "code",
      "metadata": {
        "id": "MoKOmQ-HOc6B"
      },
      "source": [
        "# loading positive left dr dataset from csv - github\r\n",
        "positiveleftdata = \"https://github.com/Edna-Cruz-Fl/EMCRISPRstruct/raw/main/Dataset/EMPositiveLeftDR.csv\"\r\n",
        "# loading positive right dr dataset from csv - github\r\n",
        "positiverightdata = \"https://github.com/Edna-Cruz-Fl/EMCRISPRstruct/raw/main/Dataset/EMPositiveRightDR.csv\"\r\n",
        "# loading negative dataset from csv - github\r\n",
        "negativedata = \"https://github.com/Edna-Cruz-Fl/EMCRISPRstruct/raw/main/Dataset/NegativeDR.csv\""
      ],
      "execution_count": 112,
      "outputs": []
    },
    {
      "cell_type": "code",
      "metadata": {
        "colab": {
          "base_uri": "https://localhost:8080/"
        },
        "id": "za94ui3Ckdrf",
        "outputId": "0bd4fe11-07aa-4cff-8e1f-60389409feab"
      },
      "source": [
        "### Data preprocessing\n",
        "# loading positive left dr dataset from csv\n",
        "positiveleftdata = pd.read_csv(positiveleftdata)\n",
        "print('Dataset con secuencias DR izquierdas positivas')\n",
        "print(positiveleftdata.head(),'\\n')\n",
        "\n",
        "# loading positive right dr dataset from csv\n",
        "positiverightdata = pd.read_csv(positiverightdata)\n",
        "print('Dataset con secuencias DR derechas positivas')\n",
        "print(positiverightdata.head(),'\\n')\n",
        "\n",
        "# loading negative dataset from csv\n",
        "negativedata = pd.read_csv(negativedata)\n",
        "print('Dataset con secuencias DR negativas')\n",
        "print(negativedata.head(),'\\n')"
      ],
      "execution_count": 113,
      "outputs": [
        {
          "output_type": "stream",
          "text": [
            "Dataset con secuencias DR izquierdas positivas\n",
            "                       LeftDirectRepeat  Label\n",
            "0  GTCTAAGTCCCTTTAAATGGCGGGGCGTCTTTCAGA      1\n",
            "1  GTCTTAATCCCCTTAAATGGCGGGGCGTCTTTCAGA      1\n",
            "2  GTCTTAATCCCCTTAAATGGCGGGGCGTCTTTCAGA      1\n",
            "3  GTCTTAATCCCCTTAAATGGCGGGGCGTCTTTCAGA      1\n",
            "4  ACATTAACCCCCTAAAATCGCGGGGAGTCTTTCAGA      1 \n",
            "\n",
            "Dataset con secuencias DR derechas positivas\n",
            "                      RightDirectRepeat  Label\n",
            "0  TCTTAATCCCCTTAAATGGCGGGGCGTCTTTCAGAG      1\n",
            "1  TCTTAATCCCCTTAAATGGCGGGGCGTCTTTCAGAG      1\n",
            "2  TCTTAATCCCCTTAAATGGCGGGGCGTCTTTCAGAG      1\n",
            "3  TCTTAATCCCCTTAAATGGCGGGGCGTCTTTCAGAG      1\n",
            "4  TCTTAATCCCCTTAAATGGCGGGGCGTCTTTCAGAG      1 \n",
            "\n",
            "Dataset con secuencias DR negativas\n",
            "                   DirectRepeat  Label\n",
            "0  ACACTGACTGAGAAGGGGTCCCCCTTTG      0\n",
            "1  AACCGTACCGAAGGGGGTTGCTTGACAC      0\n",
            "2  CAGCAAACGCACTTAGCAGTGGGTCAAA      0\n",
            "3  GGGGGAGGATGTGAGTCGGCGAGACCTC      0\n",
            "4  AACGCGACCATTACCTGAATCAAGAATC      0 \n",
            "\n"
          ],
          "name": "stdout"
        }
      ]
    },
    {
      "cell_type": "markdown",
      "metadata": {
        "id": "jV2gXkueHTXv"
      },
      "source": [
        "### Construcción de dataset de DR en el extremo 5'\n",
        "\n",
        "El Dataset para el modelo del extremo 5' (izquierdo) y del extremo 3' (derecho) se conforma por 35,821 secuecias DR positivas y el dataset negativo con 12,011 secuencias DR, finalmente se obtuvo un total de 47,832 secuencias en el dataset"
      ]
    },
    {
      "cell_type": "code",
      "metadata": {
        "colab": {
          "base_uri": "https://localhost:8080/"
        },
        "id": "qzHZyeJKJNDe",
        "outputId": "0c1408cd-68dc-4ed7-c391-4408c1d6a853"
      },
      "source": [
        "##Cambiar nombre de la columna dl DF con dataset negativo para concatenar\n",
        "negativedata.rename(columns={'DirectRepeat': 'LeftDirectRepeat'}, inplace=True)\n",
        "negativedata.columns"
      ],
      "execution_count": 114,
      "outputs": [
        {
          "output_type": "execute_result",
          "data": {
            "text/plain": [
              "Index(['LeftDirectRepeat', 'Label'], dtype='object')"
            ]
          },
          "metadata": {
            "tags": []
          },
          "execution_count": 114
        }
      ]
    },
    {
      "cell_type": "markdown",
      "metadata": {
        "id": "IPgMZhcHx0te"
      },
      "source": [
        "Uniendo el dataset positivo de DR en el extremo 5' con el dataset negativo de CRF"
      ]
    },
    {
      "cell_type": "code",
      "metadata": {
        "colab": {
          "base_uri": "https://localhost:8080/"
        },
        "id": "m8aliufRHpaZ",
        "outputId": "78cb9344-1664-4421-eb0d-d8045a63fed6"
      },
      "source": [
        "# Apilar los __DataFrames__ uno encima del otro\n",
        "leftdataset = pd.concat([positiveleftdata, negativedata], axis=0)\n",
        "# Suffle del dataset con clase positiva y negativa\n",
        "#leftdataset = shuffle(leftdataset)\n",
        "#print('Dataset izquierdo con las secuencias positivas y negativas')\n",
        "print(leftdataset.head(),'\\n')\n",
        "print(leftdataset.tail(),'\\n')"
      ],
      "execution_count": 115,
      "outputs": [
        {
          "output_type": "stream",
          "text": [
            "                       LeftDirectRepeat  Label\n",
            "0  GTCTAAGTCCCTTTAAATGGCGGGGCGTCTTTCAGA      1\n",
            "1  GTCTTAATCCCCTTAAATGGCGGGGCGTCTTTCAGA      1\n",
            "2  GTCTTAATCCCCTTAAATGGCGGGGCGTCTTTCAGA      1\n",
            "3  GTCTTAATCCCCTTAAATGGCGGGGCGTCTTTCAGA      1\n",
            "4  ACATTAACCCCCTAAAATCGCGGGGAGTCTTTCAGA      1 \n",
            "\n",
            "                                        LeftDirectRepeat  Label\n",
            "12006  CGTCATAAAAGGGGGTCGCGAGTATAGGCCTGAGGAGTACCTATAT...      0\n",
            "12007  CCGGTCAATTTGGGGTTTCCCGCTCCTCGACGAGTGAGTGATGCGT...      0\n",
            "12008  TTATAGAGCCTTCGACGCAAATTCTGCTAACCAGAGCTAGGTTCAT...      0\n",
            "12009  AGTATGGCACCGGATTGACTGTGATGATTTAACGAAGTACAGCCCT...      0\n",
            "12010  NNNNNNNNNNNNNNNNNNNNNNNNNNNNNNNNNNNNNNNNNNNNNN...      0 \n",
            "\n"
          ],
          "name": "stdout"
        }
      ]
    },
    {
      "cell_type": "markdown",
      "metadata": {
        "id": "BIGWJ6i07qyg"
      },
      "source": [
        "### Construcción de dataset de DR en el extremo 3'"
      ]
    },
    {
      "cell_type": "code",
      "metadata": {
        "colab": {
          "base_uri": "https://localhost:8080/"
        },
        "id": "WIhq0VAq7qZo",
        "outputId": "99095acb-60af-4117-dc9e-50ff63496974"
      },
      "source": [
        "##Cambiar nombre de la columna dl DF con dataset negativo para concatenar con\r\n",
        "# dataste positivo\r\n",
        "negativedata.rename(columns={'LeftDirectRepeat': 'RightDirectRepeat'}, inplace=True)\r\n",
        "negativedata.columns"
      ],
      "execution_count": 116,
      "outputs": [
        {
          "output_type": "execute_result",
          "data": {
            "text/plain": [
              "Index(['RightDirectRepeat', 'Label'], dtype='object')"
            ]
          },
          "metadata": {
            "tags": []
          },
          "execution_count": 116
        }
      ]
    },
    {
      "cell_type": "code",
      "metadata": {
        "colab": {
          "base_uri": "https://localhost:8080/"
        },
        "id": "3M66oU_x8B4N",
        "outputId": "7cb3af2e-6ca0-4b5b-bd0d-160782c1b248"
      },
      "source": [
        "### Data preparation\r\n",
        "# Apilar los __DataFrames__ uno encima del otro\r\n",
        "rightdataset = pd.concat([positiverightdata, negativedata], axis=0)\r\n",
        "# Suffle del dataset con clase positiva y negativa\r\n",
        "#rightdataset = shuffle(rightdataset)\r\n",
        "#print('Dataset izquierdo con las secuencias positivas y negativas')\r\n",
        "print(rightdataset.head(),'\\n')\r\n",
        "print(rightdataset.tail(),'\\n')"
      ],
      "execution_count": 117,
      "outputs": [
        {
          "output_type": "stream",
          "text": [
            "                      RightDirectRepeat  Label\n",
            "0  TCTTAATCCCCTTAAATGGCGGGGCGTCTTTCAGAG      1\n",
            "1  TCTTAATCCCCTTAAATGGCGGGGCGTCTTTCAGAG      1\n",
            "2  TCTTAATCCCCTTAAATGGCGGGGCGTCTTTCAGAG      1\n",
            "3  TCTTAATCCCCTTAAATGGCGGGGCGTCTTTCAGAG      1\n",
            "4  TCTTAATCCCCTTAAATGGCGGGGCGTCTTTCAGAG      1 \n",
            "\n",
            "                                       RightDirectRepeat  Label\n",
            "12006  CGTCATAAAAGGGGGTCGCGAGTATAGGCCTGAGGAGTACCTATAT...      0\n",
            "12007  CCGGTCAATTTGGGGTTTCCCGCTCCTCGACGAGTGAGTGATGCGT...      0\n",
            "12008  TTATAGAGCCTTCGACGCAAATTCTGCTAACCAGAGCTAGGTTCAT...      0\n",
            "12009  AGTATGGCACCGGATTGACTGTGATGATTTAACGAAGTACAGCCCT...      0\n",
            "12010  NNNNNNNNNNNNNNNNNNNNNNNNNNNNNNNNNNNNNNNNNNNNNN...      0 \n",
            "\n"
          ],
          "name": "stdout"
        }
      ]
    },
    {
      "cell_type": "markdown",
      "metadata": {
        "id": "YkyLpfZ3MYDI"
      },
      "source": [
        "## Transformación de los conjuntos de datos para el extremo 5' y 3' en matrices"
      ]
    },
    {
      "cell_type": "code",
      "metadata": {
        "colab": {
          "base_uri": "https://localhost:8080/"
        },
        "id": "l8iEfINgHpUy",
        "outputId": "0e8101d5-c311-4536-dc1f-1142474c1ead"
      },
      "source": [
        "### Data preparation left model \n",
        "# Dataframe to numpy matrix from left DR\n",
        "leftdataset = leftdataset.to_numpy()\n",
        "# Columna de secuencias: leftdataset[:,0] y columna de labels: leftdataset[:,1]\n",
        "print('[INFO] Left Dataset en una sola matriz:\\n',leftdataset[0:5,:])\n",
        "\n",
        "\n",
        "# Dataframe to numpy matrix from right DR\n",
        "rightdataset = rightdataset.to_numpy()\n",
        "print('\\n[INFO] Right Dataset en una sola matriz:\\n',leftdataset[0:5,:])"
      ],
      "execution_count": 118,
      "outputs": [
        {
          "output_type": "stream",
          "text": [
            "[INFO] Left Dataset en una sola matriz:\n",
            " [['GTCTAAGTCCCTTTAAATGGCGGGGCGTCTTTCAGA' 1]\n",
            " ['GTCTTAATCCCCTTAAATGGCGGGGCGTCTTTCAGA' 1]\n",
            " ['GTCTTAATCCCCTTAAATGGCGGGGCGTCTTTCAGA' 1]\n",
            " ['GTCTTAATCCCCTTAAATGGCGGGGCGTCTTTCAGA' 1]\n",
            " ['ACATTAACCCCCTAAAATCGCGGGGAGTCTTTCAGA' 1]]\n",
            "\n",
            "[INFO] Right Dataset en una sola matriz:\n",
            " [['GTCTAAGTCCCTTTAAATGGCGGGGCGTCTTTCAGA' 1]\n",
            " ['GTCTTAATCCCCTTAAATGGCGGGGCGTCTTTCAGA' 1]\n",
            " ['GTCTTAATCCCCTTAAATGGCGGGGCGTCTTTCAGA' 1]\n",
            " ['GTCTTAATCCCCTTAAATGGCGGGGCGTCTTTCAGA' 1]\n",
            " ['ACATTAACCCCCTAAAATCGCGGGGAGTCTTTCAGA' 1]]\n"
          ],
          "name": "stdout"
        }
      ]
    },
    {
      "cell_type": "code",
      "metadata": {
        "colab": {
          "base_uri": "https://localhost:8080/"
        },
        "id": "dldrJEaREP9L",
        "outputId": "ff35a056-64fe-4bdf-98bd-36b6f6d968a5"
      },
      "source": [
        "# Extracción de las secuencias y etiquetas por separado\r\n",
        "x_leftdata = leftdataset[:,0]\r\n",
        "y_leftlabels = leftdataset[:,1]\r\n",
        "#leftsamples = len(leftdataset[:,1])\r\n",
        "print('\\n[INFO] Dimensión de matriz con de DR izquiedos: ',x_leftdata.shape)\r\n",
        "print('\\n[INFO] Dimensiónde vector con etiquetas de DR izquierdos: ',y_leftlabels.shape)"
      ],
      "execution_count": 140,
      "outputs": [
        {
          "output_type": "stream",
          "text": [
            "\n",
            "[INFO] Dimensión de matriz con de DR izquiedos:  (47832,)\n",
            "\n",
            "[INFO] Dimensiónde vector con etiquetas de DR izquierdos:  (47832,)\n"
          ],
          "name": "stdout"
        }
      ]
    },
    {
      "cell_type": "code",
      "metadata": {
        "colab": {
          "base_uri": "https://localhost:8080/"
        },
        "id": "LvHAw2N5Eh5Z",
        "outputId": "ccc328b0-2231-4c3a-aab2-4273f5dfb90b"
      },
      "source": [
        "# Extracción de las secuencias y etiquetas por separado\r\n",
        "x_rightdata = rightdataset[:,0]\r\n",
        "y_rightlabels = rightdataset[:,1]\r\n",
        "#leftsamples = len(leftdataset[:,1])\r\n",
        "print('\\n[INFO] Dimensión de matriz con de DR derechos: ',x_rightdata.shape)\r\n",
        "print('\\n[INFO] Dimensión de vector con etiquetas de DR derechos: ',y_rightlabels.shape)"
      ],
      "execution_count": 141,
      "outputs": [
        {
          "output_type": "stream",
          "text": [
            "\n",
            "[INFO] Dimensión de matriz con de DR derechos:  (47832,)\n",
            "\n",
            "[INFO] Dimensión de vector con etiquetas de DR derechos:  (47832,)\n"
          ],
          "name": "stdout"
        }
      ]
    },
    {
      "cell_type": "markdown",
      "metadata": {
        "id": "hS1dEOAlMv_v"
      },
      "source": [
        "### Encoding de las secuencias de nucleótidos para el extremo 5'\n",
        "\n",
        "List sequences processing\n",
        "\n",
        "Procesamiento de x_leftdata que contiene secuencias de nucleótidos contenidas en una lista.\n",
        "\n",
        "*   Encoding de las secuencias\n",
        "*   Padding y truncate de las secunecias\n",
        "*   One hot encoding para las secuencias"
      ]
    },
    {
      "cell_type": "code",
      "metadata": {
        "colab": {
          "base_uri": "https://localhost:8080/"
        },
        "id": "9ir8vO5yMwcd",
        "outputId": "3f457f02-6b4f-4b7c-d7f8-0fca93a0c2f4"
      },
      "source": [
        "X_Leftdata = ListSeqProcessing(x_leftdata)"
      ],
      "execution_count": 142,
      "outputs": [
        {
          "output_type": "stream",
          "text": [
            "/usr/local/lib/python3.6/dist-packages/ipykernel_launcher.py:10: VisibleDeprecationWarning: Creating an ndarray from ragged nested sequences (which is a list-or-tuple of lists-or-tuples-or ndarrays with different lengths or shapes) is deprecated. If you meant to do this, you must specify 'dtype=object' when creating the ndarray\n",
            "  # Remove the CWD from sys.path while we load stuff.\n"
          ],
          "name": "stderr"
        },
        {
          "output_type": "stream",
          "text": [
            "\n",
            "[INFO] Transformación de secuencias a datos numéricos finalizada (0-8)...\n",
            "\n",
            "[INFO] Padding (post) and truncate (pre) for length inputs sequences finished...\n",
            "[INFO] Transformación de vector de secuencias a one-hot encoding (Lx8) finalizada...\n",
            "\n",
            "[INFO] Dimensión de la matriz one-hot enconding para secuencias:  (47832, 36, 8)\n"
          ],
          "name": "stdout"
        }
      ]
    },
    {
      "cell_type": "markdown",
      "metadata": {
        "id": "o9kGyd_tN7s_"
      },
      "source": [
        "### Encoding de las secuencias de nucleótidos para el extremo 3'\r\n",
        "\r\n",
        "List sequences processing\r\n",
        "\r\n",
        "Procesamiento de x_rightdata que contiene secuencias de nucleótidos contenidas en una lista.\r\n",
        "\r\n",
        "*   Encoding de las secuencias\r\n",
        "*   Padding y truncate de las secunecias\r\n",
        "*   One hot encoding para las secuencias"
      ]
    },
    {
      "cell_type": "code",
      "metadata": {
        "colab": {
          "base_uri": "https://localhost:8080/"
        },
        "id": "rgmwOLhQOADZ",
        "outputId": "68d14a83-52e9-4fac-abc2-a978ea80694f"
      },
      "source": [
        "X_Rightdata = ListSeqProcessingRight(x_rightdata)"
      ],
      "execution_count": 143,
      "outputs": [
        {
          "output_type": "stream",
          "text": [
            "/usr/local/lib/python3.6/dist-packages/ipykernel_launcher.py:10: VisibleDeprecationWarning: Creating an ndarray from ragged nested sequences (which is a list-or-tuple of lists-or-tuples-or ndarrays with different lengths or shapes) is deprecated. If you meant to do this, you must specify 'dtype=object' when creating the ndarray\n",
            "  # Remove the CWD from sys.path while we load stuff.\n"
          ],
          "name": "stderr"
        },
        {
          "output_type": "stream",
          "text": [
            "\n",
            "[INFO] Transformación de secuencias a datos numéricos (0-8) finalizada...\n",
            "\n",
            "[INFO] Padding (pre) and truncate (pre) for length inputs sequences finished...\n",
            "[INFO] Transformación de vector de secuencias a one-hot encoding (Lx8) finalizada...\n",
            "\n",
            "[INFO] Dimensión de la matriz one-hot enconding para secuencias:  (47832, 36, 8)\n"
          ],
          "name": "stdout"
        }
      ]
    },
    {
      "cell_type": "markdown",
      "metadata": {
        "id": "8vkikHM6y-Ts"
      },
      "source": [
        "## Partición del los conjunto de datos para el extremo 5' y 3' en prueba y entrenamiento"
      ]
    },
    {
      "cell_type": "code",
      "metadata": {
        "colab": {
          "base_uri": "https://localhost:8080/"
        },
        "id": "4KsImerDNbaJ",
        "outputId": "b7a38205-f54a-48bb-a6a7-4c95fde63fee"
      },
      "source": [
        "### train_test_split function: split the data into train and test sets\n",
        "X_trainLeft, X_testLeft, y_trainLeft, y_testLeft, X_trainRight, X_testRight, y_trainRight, y_testRight = train_test_split(X_Leftdata, y_leftlabels,\n",
        "                                                                                                                          X_Rightdata, y_rightlabels,\n",
        "                                                                                                                          test_size=0.2,\n",
        "                                                                                                                          random_state=42,\n",
        "                                                                                                                          stratify=y_rightlabels)\n",
        "\n",
        "#Imprmir el conjunto de datos tras la fragmentación del dataset extremo 5\n",
        "print('[INFO] Dimension de matriz X_trainLeft extremo 5: ',X_trainLeft.shape)\n",
        "print('[INFO] Dimension de matriz y_trainLeft extremo 5: ',y_trainLeft.shape)\n",
        "print('[INFO] Dimension de matriz X_testLeft extremo 5: ',X_testLeft.shape)\n",
        "print('[INFO] Dimension de matriz y_testLeft extremo 5: ',y_testLeft.shape)\n",
        "\n",
        "#Imprmir el conjunto de datos tras la fragmentación del dataset extremo 3\n",
        "print('\\n[INFO] Dimension de matriz X_trainRight extremo 3: ',X_trainLeft.shape)\n",
        "print('[INFO] Dimension de matriz y_trainRight extremo 3: ',y_trainLeft.shape)\n",
        "print('[INFO] Dimension de matriz X_testRight extremo 3: ',X_testLeft.shape)\n",
        "print('[INFO] Dimension de matriz y_testRight extremo 3: ',y_testLeft.shape)"
      ],
      "execution_count": 144,
      "outputs": [
        {
          "output_type": "stream",
          "text": [
            "[INFO] Dimension de matriz X_trainLeft extremo 5:  (38265, 36, 8)\n",
            "[INFO] Dimension de matriz y_trainLeft extremo 5:  (38265,)\n",
            "[INFO] Dimension de matriz X_testLeft extremo 5:  (9567, 36, 8)\n",
            "[INFO] Dimension de matriz y_testLeft extremo 5:  (9567,)\n",
            "\n",
            "[INFO] Dimension de matriz X_trainRight extremo 3:  (38265, 36, 8)\n",
            "[INFO] Dimension de matriz y_trainRight extremo 3:  (38265,)\n",
            "[INFO] Dimension de matriz X_testRight extremo 3:  (9567, 36, 8)\n",
            "[INFO] Dimension de matriz y_testRight extremo 3:  (9567,)\n"
          ],
          "name": "stdout"
        }
      ]
    },
    {
      "cell_type": "code",
      "metadata": {
        "colab": {
          "base_uri": "https://localhost:8080/"
        },
        "id": "ovc97Bylu8bK",
        "outputId": "246b7f15-1f4b-4d66-db3c-fd4d21446b57"
      },
      "source": [
        "#Comparación de etiquetas entre el split del dataset para el extremo 5' contra\r\n",
        "#el extremo 3'\r\n",
        "#Vector de etiquetas en el conjunto de prueba para el extremo 5'\r\n",
        "print(y_testLeft)\r\n",
        "#Vector de etiquetas en el conjunto de prueba para el extremo 3'\r\n",
        "print(y_testRight)"
      ],
      "execution_count": 145,
      "outputs": [
        {
          "output_type": "stream",
          "text": [
            "[0 1 1 ... 0 1 1]\n",
            "[0 1 1 ... 0 1 1]\n"
          ],
          "name": "stdout"
        }
      ]
    },
    {
      "cell_type": "markdown",
      "metadata": {
        "id": "_7MAQG_Nywjf"
      },
      "source": [
        "## Preparación de los datos de entrada para el modelo ensamblado"
      ]
    },
    {
      "cell_type": "code",
      "metadata": {
        "colab": {
          "base_uri": "https://localhost:8080/"
        },
        "id": "CHCOid1bwu9J",
        "outputId": "944754fe-1c44-4cda-acd2-1d93cfa8a825"
      },
      "source": [
        "X_trainLeft.shape[0]"
      ],
      "execution_count": 146,
      "outputs": [
        {
          "output_type": "execute_result",
          "data": {
            "text/plain": [
              "38265"
            ]
          },
          "metadata": {
            "tags": []
          },
          "execution_count": 146
        }
      ]
    },
    {
      "cell_type": "code",
      "metadata": {
        "id": "onr-btKuNzjH"
      },
      "source": [
        "### Network parameters\n",
        "batches = 32\n",
        "epochs = 60\n",
        "\n",
        "data_rows = X_trainLeft.shape[1]\n",
        "data_cols = X_trainLeft.shape[2]\n",
        "channels = 1\n",
        "dim_input = (channels, data_rows,data_cols)"
      ],
      "execution_count": 147,
      "outputs": []
    },
    {
      "cell_type": "markdown",
      "metadata": {
        "id": "5hyvqpf1Qle0"
      },
      "source": [
        "Procesamiento de los datos de entrada para el modelo del extremo 5'"
      ]
    },
    {
      "cell_type": "code",
      "metadata": {
        "id": "oJxaY4uWOCnO"
      },
      "source": [
        "### Preprocess the inputs left model\n",
        "X_trainLeft = X_trainLeft.reshape(X_trainLeft.shape[0], channels, data_rows, data_cols)\n",
        "X_trainLeft = X_trainLeft.astype('float32')\n",
        "X_testLeft = X_testLeft.reshape(X_testLeft.shape[0], channels, data_rows, data_cols)\n",
        "X_testLeft = X_testLeft.astype('float32')\n",
        "\n",
        "# Preprocess the labels left model\n",
        "y_testLeft = y_testLeft.astype('float32')\n",
        "y_trainLeft = y_trainLeft.astype('float32')"
      ],
      "execution_count": 148,
      "outputs": []
    },
    {
      "cell_type": "code",
      "metadata": {
        "colab": {
          "base_uri": "https://localhost:8080/"
        },
        "id": "UanuG8oIQwXQ",
        "outputId": "660bade2-fe9f-41ce-f0e8-ff2f18a7abca"
      },
      "source": [
        "print('Shape of training left DR: ')\r\n",
        "print(X_trainLeft.shape)\r\n",
        "print(y_trainLeft.shape)\r\n",
        "print('Shape of test data left DR: ')\r\n",
        "print(X_testLeft.shape)\r\n",
        "print(y_testLeft.shape)"
      ],
      "execution_count": 149,
      "outputs": [
        {
          "output_type": "stream",
          "text": [
            "Shape of training left DR: \n",
            "(38265, 1, 36, 8)\n",
            "(38265,)\n",
            "Shape of test data left DR: \n",
            "(9567, 1, 36, 8)\n",
            "(9567,)\n"
          ],
          "name": "stdout"
        }
      ]
    },
    {
      "cell_type": "markdown",
      "metadata": {
        "id": "6cIad1S-SVhv"
      },
      "source": [
        "Procesamiento de los datos de entrada para el modelo del extremo 3'"
      ]
    },
    {
      "cell_type": "code",
      "metadata": {
        "id": "pz9NQILPQ7zO"
      },
      "source": [
        "### Preprocess the inputs right DR\r\n",
        "X_trainRight = X_trainRight.reshape(X_trainRight.shape[0], channels, data_rows, data_cols)\r\n",
        "X_trainRight = X_trainRight.astype('float32')\r\n",
        "X_testRight = X_testRight.reshape(X_testRight.shape[0], channels, data_rows, data_cols)\r\n",
        "X_testRight = X_testRight.astype('float32')\r\n",
        "\r\n",
        "# Preprocess the labels right DR\r\n",
        "y_testRight = y_testRight.astype('float32')\r\n",
        "y_trainRight = y_trainRight.astype('float32')"
      ],
      "execution_count": 150,
      "outputs": []
    },
    {
      "cell_type": "code",
      "metadata": {
        "colab": {
          "base_uri": "https://localhost:8080/"
        },
        "id": "elw88Q8-RxYX",
        "outputId": "908502a9-fd2a-4dd7-af7c-fe418c9085dc"
      },
      "source": [
        "print('Shape of training right DR: ')\r\n",
        "print(X_trainRight.shape)\r\n",
        "print(y_trainRight.shape)\r\n",
        "print('Shape of test data right DR: ')\r\n",
        "print(X_testRight.shape)\r\n",
        "print(y_testRight.shape)"
      ],
      "execution_count": 151,
      "outputs": [
        {
          "output_type": "stream",
          "text": [
            "Shape of training right DR: \n",
            "(38265, 1, 36, 8)\n",
            "(38265,)\n",
            "Shape of test data right DR: \n",
            "(9567, 1, 36, 8)\n",
            "(9567,)\n"
          ],
          "name": "stdout"
        }
      ]
    },
    {
      "cell_type": "markdown",
      "metadata": {
        "id": "LWOEPWuoOtNG"
      },
      "source": [
        "# Initialising the ensemble model for CRISPR structus"
      ]
    },
    {
      "cell_type": "code",
      "metadata": {
        "colab": {
          "base_uri": "https://localhost:8080/"
        },
        "id": "PmuN3jJ6PShR",
        "outputId": "d0ff94aa-31c4-4ca9-ef66-b229f7125fca"
      },
      "source": [
        "# Initialising the left CNN model\n",
        "leftDR = Sequential()\n",
        "# Step 1 - Convolution\n",
        "leftDR.add(Conv2D(32, (3, 3), strides=(1, 1), padding='same', activation='relu',\n",
        "                    data_format='channels_first', input_shape= dim_input))\n",
        "# Step 2 - Pooling\n",
        "leftDR.add(MaxPooling2D(pool_size = (2, 2), data_format='channels_first'))\n",
        "leftDR.add(Dropout(0.10))\n",
        "# Adding a second convolutional layer\n",
        "leftDR.add(Conv2D(64, (3, 3), strides=(1, 1), padding='same', activation = 'relu',\n",
        "                  data_format='channels_first'))\n",
        "leftDR.add(MaxPooling2D(pool_size = (2, 2), data_format='channels_first'))\n",
        "leftDR.add(Dropout(0.25))\n",
        "# Adding a third convolutional layer\n",
        "leftDR.add(Conv2D(128, (3, 3), strides=(1, 1), padding='same', activation = 'relu',\n",
        "                  data_format='channels_first'))\n",
        "leftDR.add(MaxPooling2D(pool_size = (2, 2), data_format='channels_first'))\n",
        "leftDR.add(Dropout(0.25))\n",
        "# Adding a fourth convolutional layer\n",
        "#model.add(Conv2D(128, (3, 3), activation = 'relu'))\n",
        "#model.add(MaxPooling2D(pool_size = (2, 2)))\n",
        "#model.add(Dropout(0.25))\n",
        "# Step 3 - Flattening\n",
        "leftDR.add(Flatten())\n",
        "\n",
        "\n",
        "# Initialising the right CNN model\n",
        "rightDR = Sequential()\n",
        "# Step 1 - Convolution\n",
        "rightDR.add(Conv2D(32, (3, 3), strides=(1, 1), padding='same', activation='relu',\n",
        "                     data_format='channels_first', input_shape = dim_input))\n",
        "# Step 2 - Pooling\n",
        "rightDR.add(MaxPooling2D(pool_size = (2, 2), data_format='channels_first'))\n",
        "rightDR.add(Dropout(0.10))\n",
        "# Adding a second convolutional layer\n",
        "rightDR.add(Conv2D(64, (3, 3), strides=(1, 1), padding='same', activation = 'relu',\n",
        "                   data_format='channels_first'))\n",
        "rightDR.add(MaxPooling2D(pool_size = (2, 2), data_format='channels_first'))\n",
        "rightDR.add(Dropout(0.25))\n",
        "# Adding a third convolutional layer\n",
        "rightDR.add(Conv2D(128, (3, 3), strides=(1, 1), padding='same', activation = 'relu',\n",
        "                   data_format='channels_first'))\n",
        "rightDR.add(MaxPooling2D(pool_size = (2, 2), data_format='channels_first'))\n",
        "rightDR.add(Dropout(0.25))\n",
        "# Adding a fourth convolutional layer\n",
        "#model.add(Conv2D(128, (3, 3), activation = 'relu'))\n",
        "#model.add(MaxPooling2D(pool_size = (2, 2)))\n",
        "#model.add(Dropout(0.25))\n",
        "# Step 3 - Flattening\n",
        "rightDR.add(Flatten())\n",
        "\n",
        "# Step 4 - Full connection ensemble model\n",
        "# merge input models\n",
        "DRflankscombined = concatenate([leftDR.output, rightDR.output])\n",
        "\n",
        "InputNNlayer = Dense(units = 64, activation = 'relu',  kernel_regularizer=l1(9e-5))(DRflankscombined)\n",
        "#HiddenNNlayer = Dense(units = 32, activation = 'relu',  kernel_regularizer=l1(9e-5))(InputNNlayer)\n",
        "OutputNNlayer = Dense(units = 1, activation='sigmoid')(InputNNlayer)\n",
        "EMCRISPRstructV2 = Model(inputs=[leftDR.input, rightDR.input], outputs= OutputNNlayer)\n",
        "\n",
        "print(EMCRISPRstructV2.summary())"
      ],
      "execution_count": 152,
      "outputs": [
        {
          "output_type": "stream",
          "text": [
            "Model: \"model_6\"\n",
            "__________________________________________________________________________________________________\n",
            "Layer (type)                    Output Shape         Param #     Connected to                     \n",
            "==================================================================================================\n",
            "conv2d_35_input (InputLayer)    [(None, 1, 36, 8)]   0                                            \n",
            "__________________________________________________________________________________________________\n",
            "conv2d_38_input (InputLayer)    [(None, 1, 36, 8)]   0                                            \n",
            "__________________________________________________________________________________________________\n",
            "conv2d_35 (Conv2D)              (None, 32, 36, 8)    320         conv2d_35_input[0][0]            \n",
            "__________________________________________________________________________________________________\n",
            "conv2d_38 (Conv2D)              (None, 32, 36, 8)    320         conv2d_38_input[0][0]            \n",
            "__________________________________________________________________________________________________\n",
            "max_pooling2d_35 (MaxPooling2D) (None, 32, 18, 4)    0           conv2d_35[0][0]                  \n",
            "__________________________________________________________________________________________________\n",
            "max_pooling2d_38 (MaxPooling2D) (None, 32, 18, 4)    0           conv2d_38[0][0]                  \n",
            "__________________________________________________________________________________________________\n",
            "dropout_34 (Dropout)            (None, 32, 18, 4)    0           max_pooling2d_35[0][0]           \n",
            "__________________________________________________________________________________________________\n",
            "dropout_37 (Dropout)            (None, 32, 18, 4)    0           max_pooling2d_38[0][0]           \n",
            "__________________________________________________________________________________________________\n",
            "conv2d_36 (Conv2D)              (None, 64, 18, 4)    18496       dropout_34[0][0]                 \n",
            "__________________________________________________________________________________________________\n",
            "conv2d_39 (Conv2D)              (None, 64, 18, 4)    18496       dropout_37[0][0]                 \n",
            "__________________________________________________________________________________________________\n",
            "max_pooling2d_36 (MaxPooling2D) (None, 64, 9, 2)     0           conv2d_36[0][0]                  \n",
            "__________________________________________________________________________________________________\n",
            "max_pooling2d_39 (MaxPooling2D) (None, 64, 9, 2)     0           conv2d_39[0][0]                  \n",
            "__________________________________________________________________________________________________\n",
            "dropout_35 (Dropout)            (None, 64, 9, 2)     0           max_pooling2d_36[0][0]           \n",
            "__________________________________________________________________________________________________\n",
            "dropout_38 (Dropout)            (None, 64, 9, 2)     0           max_pooling2d_39[0][0]           \n",
            "__________________________________________________________________________________________________\n",
            "conv2d_37 (Conv2D)              (None, 128, 9, 2)    73856       dropout_35[0][0]                 \n",
            "__________________________________________________________________________________________________\n",
            "conv2d_40 (Conv2D)              (None, 128, 9, 2)    73856       dropout_38[0][0]                 \n",
            "__________________________________________________________________________________________________\n",
            "max_pooling2d_37 (MaxPooling2D) (None, 128, 4, 1)    0           conv2d_37[0][0]                  \n",
            "__________________________________________________________________________________________________\n",
            "max_pooling2d_40 (MaxPooling2D) (None, 128, 4, 1)    0           conv2d_40[0][0]                  \n",
            "__________________________________________________________________________________________________\n",
            "dropout_36 (Dropout)            (None, 128, 4, 1)    0           max_pooling2d_37[0][0]           \n",
            "__________________________________________________________________________________________________\n",
            "dropout_39 (Dropout)            (None, 128, 4, 1)    0           max_pooling2d_40[0][0]           \n",
            "__________________________________________________________________________________________________\n",
            "flatten_12 (Flatten)            (None, 512)          0           dropout_36[0][0]                 \n",
            "__________________________________________________________________________________________________\n",
            "flatten_13 (Flatten)            (None, 512)          0           dropout_39[0][0]                 \n",
            "__________________________________________________________________________________________________\n",
            "concatenate_6 (Concatenate)     (None, 1024)         0           flatten_12[0][0]                 \n",
            "                                                                 flatten_13[0][0]                 \n",
            "__________________________________________________________________________________________________\n",
            "dense_15 (Dense)                (None, 64)           65600       concatenate_6[0][0]              \n",
            "__________________________________________________________________________________________________\n",
            "dense_16 (Dense)                (None, 1)            65          dense_15[0][0]                   \n",
            "==================================================================================================\n",
            "Total params: 251,009\n",
            "Trainable params: 251,009\n",
            "Non-trainable params: 0\n",
            "__________________________________________________________________________________________________\n",
            "None\n"
          ],
          "name": "stdout"
        }
      ]
    },
    {
      "cell_type": "markdown",
      "metadata": {
        "id": "e2mHBvFsQLgO"
      },
      "source": [
        "## Compiling the CNN from left model"
      ]
    },
    {
      "cell_type": "code",
      "metadata": {
        "colab": {
          "base_uri": "https://localhost:8080/",
          "height": 1000
        },
        "id": "9KjXKxJ_PSOg",
        "outputId": "79547df4-f343-4dc3-d32b-cd4465ec468c"
      },
      "source": [
        "# Compiling the CNN\n",
        "EMCRISPRstructV2.compile(optimizer = 'adam', loss = 'binary_crossentropy', metrics = ['accuracy'])\n",
        "\n",
        "\n",
        "model = \"best2_EMCRISPRstructV2.hdf5\"\n",
        "checkpoint = ModelCheckpoint(model, monitor='val_accuracy', verbose=0,\n",
        "                             save_weights_only=False,\n",
        "                             save_best_only=True, mode='max')\n",
        "\n",
        "\n",
        "plot_model(EMCRISPRstructV2, to_file='cnn_EMCRISPRstructV2.png', show_shapes=True, show_layer_names=True)\n",
        "display(Image.open('cnn_EMCRISPRstructV2.png'))"
      ],
      "execution_count": 153,
      "outputs": [
        {
          "output_type": "display_data",
          "data": {
            "image/png": "[encoded data removed]",
            "text/plain": [
              "<PIL.PngImagePlugin.PngImageFile image mode=RGB size=1112x1512 at 0x7FE340C0EC88>"
            ]
          },
          "metadata": {
            "tags": []
          }
        }
      ]
    },
    {
      "cell_type": "markdown",
      "metadata": {
        "id": "a_ifT8KOTrzK"
      },
      "source": [
        "## Fit symmetric model"
      ]
    },
    {
      "cell_type": "code",
      "metadata": {
        "colab": {
          "base_uri": "https://localhost:8080/"
        },
        "id": "SkfsbfX-RSEm",
        "outputId": "df97faeb-2f57-40ff-d1e7-1602626362ad"
      },
      "source": [
        "#Entrenamiento del modelo con los datos del test y se realiza la validación \n",
        "EMCRISPRstruct_history = EMCRISPRstructV2.fit(x= [X_trainLeft, X_trainRight], y= y_trainLeft, \n",
        "                                            epochs= epochs,\n",
        "                                            batch_size= batches,\n",
        "                                            callbacks=[checkpoint],\n",
        "                                            validation_data=([X_testLeft, X_testRight], y_testLeft))"
      ],
      "execution_count": 154,
      "outputs": [
        {
          "output_type": "stream",
          "text": [
            "Epoch 1/60\n",
            "1196/1196 [==============================] - 7s 5ms/step - loss: 0.3199 - accuracy: 0.8928 - val_loss: 0.1083 - val_accuracy: 0.9695\n",
            "Epoch 2/60\n",
            "1196/1196 [==============================] - 6s 5ms/step - loss: 0.0943 - accuracy: 0.9751 - val_loss: 0.0684 - val_accuracy: 0.9834\n",
            "Epoch 3/60\n",
            "1196/1196 [==============================] - 6s 5ms/step - loss: 0.0698 - accuracy: 0.9815 - val_loss: 0.0650 - val_accuracy: 0.9842\n",
            "Epoch 4/60\n",
            "1196/1196 [==============================] - 6s 5ms/step - loss: 0.0576 - accuracy: 0.9849 - val_loss: 0.0519 - val_accuracy: 0.9874\n",
            "Epoch 5/60\n",
            "1196/1196 [==============================] - 6s 5ms/step - loss: 0.0517 - accuracy: 0.9871 - val_loss: 0.0507 - val_accuracy: 0.9867\n",
            "Epoch 6/60\n",
            "1196/1196 [==============================] - 6s 5ms/step - loss: 0.0440 - accuracy: 0.9882 - val_loss: 0.0421 - val_accuracy: 0.9907\n",
            "Epoch 7/60\n",
            "1196/1196 [==============================] - 6s 5ms/step - loss: 0.0379 - accuracy: 0.9912 - val_loss: 0.0376 - val_accuracy: 0.9918\n",
            "Epoch 8/60\n",
            "1196/1196 [==============================] - 6s 5ms/step - loss: 0.0336 - accuracy: 0.9920 - val_loss: 0.0389 - val_accuracy: 0.9910\n",
            "Epoch 9/60\n",
            "1196/1196 [==============================] - 6s 5ms/step - loss: 0.0327 - accuracy: 0.9922 - val_loss: 0.0355 - val_accuracy: 0.9918\n",
            "Epoch 10/60\n",
            "1196/1196 [==============================] - 6s 5ms/step - loss: 0.0280 - accuracy: 0.9939 - val_loss: 0.0385 - val_accuracy: 0.9912\n",
            "Epoch 11/60\n",
            "1196/1196 [==============================] - 6s 5ms/step - loss: 0.0252 - accuracy: 0.9947 - val_loss: 0.0352 - val_accuracy: 0.9927\n",
            "Epoch 12/60\n",
            "1196/1196 [==============================] - 6s 5ms/step - loss: 0.0242 - accuracy: 0.9949 - val_loss: 0.0343 - val_accuracy: 0.9927\n",
            "Epoch 13/60\n",
            "1196/1196 [==============================] - 6s 5ms/step - loss: 0.0253 - accuracy: 0.9947 - val_loss: 0.0316 - val_accuracy: 0.9928\n",
            "Epoch 14/60\n",
            "1196/1196 [==============================] - 6s 5ms/step - loss: 0.0225 - accuracy: 0.9946 - val_loss: 0.0327 - val_accuracy: 0.9928\n",
            "Epoch 15/60\n",
            "1196/1196 [==============================] - 7s 5ms/step - loss: 0.0218 - accuracy: 0.9953 - val_loss: 0.0313 - val_accuracy: 0.9931\n",
            "Epoch 16/60\n",
            "1196/1196 [==============================] - 7s 5ms/step - loss: 0.0205 - accuracy: 0.9954 - val_loss: 0.0310 - val_accuracy: 0.9932\n",
            "Epoch 17/60\n",
            "1196/1196 [==============================] - 6s 5ms/step - loss: 0.0205 - accuracy: 0.9959 - val_loss: 0.0360 - val_accuracy: 0.9916\n",
            "Epoch 18/60\n",
            "1196/1196 [==============================] - 6s 5ms/step - loss: 0.0182 - accuracy: 0.9960 - val_loss: 0.0273 - val_accuracy: 0.9937\n",
            "Epoch 19/60\n",
            "1196/1196 [==============================] - 6s 5ms/step - loss: 0.0169 - accuracy: 0.9962 - val_loss: 0.0373 - val_accuracy: 0.9908\n",
            "Epoch 20/60\n",
            "1196/1196 [==============================] - 6s 5ms/step - loss: 0.0186 - accuracy: 0.9957 - val_loss: 0.0324 - val_accuracy: 0.9934\n",
            "Epoch 21/60\n",
            "1196/1196 [==============================] - 6s 5ms/step - loss: 0.0160 - accuracy: 0.9965 - val_loss: 0.0299 - val_accuracy: 0.9935\n",
            "Epoch 22/60\n",
            "1196/1196 [==============================] - 6s 5ms/step - loss: 0.0155 - accuracy: 0.9967 - val_loss: 0.0286 - val_accuracy: 0.9936\n",
            "Epoch 23/60\n",
            "1196/1196 [==============================] - 6s 5ms/step - loss: 0.0154 - accuracy: 0.9967 - val_loss: 0.0264 - val_accuracy: 0.9946\n",
            "Epoch 24/60\n",
            "1196/1196 [==============================] - 6s 5ms/step - loss: 0.0149 - accuracy: 0.9968 - val_loss: 0.0287 - val_accuracy: 0.9940\n",
            "Epoch 25/60\n",
            "1196/1196 [==============================] - 6s 5ms/step - loss: 0.0125 - accuracy: 0.9977 - val_loss: 0.0267 - val_accuracy: 0.9950\n",
            "Epoch 26/60\n",
            "1196/1196 [==============================] - 6s 5ms/step - loss: 0.0135 - accuracy: 0.9971 - val_loss: 0.0329 - val_accuracy: 0.9927\n",
            "Epoch 27/60\n",
            "1196/1196 [==============================] - 6s 5ms/step - loss: 0.0115 - accuracy: 0.9979 - val_loss: 0.0289 - val_accuracy: 0.9939\n",
            "Epoch 28/60\n",
            "1196/1196 [==============================] - 6s 5ms/step - loss: 0.0132 - accuracy: 0.9970 - val_loss: 0.0290 - val_accuracy: 0.9929\n",
            "Epoch 29/60\n",
            "1196/1196 [==============================] - 6s 5ms/step - loss: 0.0119 - accuracy: 0.9979 - val_loss: 0.0293 - val_accuracy: 0.9936\n",
            "Epoch 30/60\n",
            "1196/1196 [==============================] - 6s 5ms/step - loss: 0.0125 - accuracy: 0.9975 - val_loss: 0.0268 - val_accuracy: 0.9943\n",
            "Epoch 31/60\n",
            "1196/1196 [==============================] - 6s 5ms/step - loss: 0.0135 - accuracy: 0.9976 - val_loss: 0.0308 - val_accuracy: 0.9933\n",
            "Epoch 32/60\n",
            "1196/1196 [==============================] - 6s 5ms/step - loss: 0.0119 - accuracy: 0.9973 - val_loss: 0.0337 - val_accuracy: 0.9928\n",
            "Epoch 33/60\n",
            "1196/1196 [==============================] - 7s 6ms/step - loss: 0.0118 - accuracy: 0.9977 - val_loss: 0.0257 - val_accuracy: 0.9946\n",
            "Epoch 34/60\n",
            "1196/1196 [==============================] - 6s 5ms/step - loss: 0.0112 - accuracy: 0.9972 - val_loss: 0.0246 - val_accuracy: 0.9941\n",
            "Epoch 35/60\n",
            "1196/1196 [==============================] - 6s 5ms/step - loss: 0.0102 - accuracy: 0.9977 - val_loss: 0.0254 - val_accuracy: 0.9945\n",
            "Epoch 36/60\n",
            "1196/1196 [==============================] - 6s 5ms/step - loss: 0.0119 - accuracy: 0.9976 - val_loss: 0.0359 - val_accuracy: 0.9922\n",
            "Epoch 37/60\n",
            "1196/1196 [==============================] - 6s 5ms/step - loss: 0.0105 - accuracy: 0.9981 - val_loss: 0.0266 - val_accuracy: 0.9944\n",
            "Epoch 38/60\n",
            "1196/1196 [==============================] - 6s 5ms/step - loss: 0.0111 - accuracy: 0.9975 - val_loss: 0.0253 - val_accuracy: 0.9950\n",
            "Epoch 39/60\n",
            "1196/1196 [==============================] - 6s 5ms/step - loss: 0.0094 - accuracy: 0.9983 - val_loss: 0.0290 - val_accuracy: 0.9943\n",
            "Epoch 40/60\n",
            "1196/1196 [==============================] - 7s 6ms/step - loss: 0.0139 - accuracy: 0.9968 - val_loss: 0.0289 - val_accuracy: 0.9937\n",
            "Epoch 41/60\n",
            "1196/1196 [==============================] - 6s 5ms/step - loss: 0.0106 - accuracy: 0.9976 - val_loss: 0.0354 - val_accuracy: 0.9932\n",
            "Epoch 42/60\n",
            "1196/1196 [==============================] - 6s 5ms/step - loss: 0.0129 - accuracy: 0.9972 - val_loss: 0.0289 - val_accuracy: 0.9940\n",
            "Epoch 43/60\n",
            "1196/1196 [==============================] - 6s 5ms/step - loss: 0.0101 - accuracy: 0.9981 - val_loss: 0.0296 - val_accuracy: 0.9947\n",
            "Epoch 44/60\n",
            "1196/1196 [==============================] - 6s 5ms/step - loss: 0.0078 - accuracy: 0.9989 - val_loss: 0.0333 - val_accuracy: 0.9928\n",
            "Epoch 45/60\n",
            "1196/1196 [==============================] - 6s 5ms/step - loss: 0.0132 - accuracy: 0.9969 - val_loss: 0.0317 - val_accuracy: 0.9939\n",
            "Epoch 46/60\n",
            "1196/1196 [==============================] - 6s 5ms/step - loss: 0.0101 - accuracy: 0.9981 - val_loss: 0.0298 - val_accuracy: 0.9939\n",
            "Epoch 47/60\n",
            "1196/1196 [==============================] - 7s 6ms/step - loss: 0.0091 - accuracy: 0.9985 - val_loss: 0.0311 - val_accuracy: 0.9937\n",
            "Epoch 48/60\n",
            "1196/1196 [==============================] - 6s 5ms/step - loss: 0.0093 - accuracy: 0.9983 - val_loss: 0.0285 - val_accuracy: 0.9950\n",
            "Epoch 49/60\n",
            "1196/1196 [==============================] - 6s 5ms/step - loss: 0.0099 - accuracy: 0.9983 - val_loss: 0.0384 - val_accuracy: 0.9916\n",
            "Epoch 50/60\n",
            "1196/1196 [==============================] - 6s 5ms/step - loss: 0.0107 - accuracy: 0.9976 - val_loss: 0.0297 - val_accuracy: 0.9939\n",
            "Epoch 51/60\n",
            "1196/1196 [==============================] - 6s 5ms/step - loss: 0.0090 - accuracy: 0.9985 - val_loss: 0.0329 - val_accuracy: 0.9933\n",
            "Epoch 52/60\n",
            "1196/1196 [==============================] - 6s 5ms/step - loss: 0.0079 - accuracy: 0.9987 - val_loss: 0.0314 - val_accuracy: 0.9938\n",
            "Epoch 53/60\n",
            "1196/1196 [==============================] - 6s 5ms/step - loss: 0.0087 - accuracy: 0.9984 - val_loss: 0.0331 - val_accuracy: 0.9936\n",
            "Epoch 54/60\n",
            "1196/1196 [==============================] - 6s 5ms/step - loss: 0.0090 - accuracy: 0.9984 - val_loss: 0.0331 - val_accuracy: 0.9933\n",
            "Epoch 55/60\n",
            "1196/1196 [==============================] - 6s 5ms/step - loss: 0.0090 - accuracy: 0.9987 - val_loss: 0.0266 - val_accuracy: 0.9946\n",
            "Epoch 56/60\n",
            "1196/1196 [==============================] - 6s 5ms/step - loss: 0.0108 - accuracy: 0.9979 - val_loss: 0.0402 - val_accuracy: 0.9926\n",
            "Epoch 57/60\n",
            "1196/1196 [==============================] - 6s 5ms/step - loss: 0.0102 - accuracy: 0.9979 - val_loss: 0.0265 - val_accuracy: 0.9946\n",
            "Epoch 58/60\n",
            "1196/1196 [==============================] - 6s 5ms/step - loss: 0.0097 - accuracy: 0.9982 - val_loss: 0.0274 - val_accuracy: 0.9949\n",
            "Epoch 59/60\n",
            "1196/1196 [==============================] - 6s 5ms/step - loss: 0.0089 - accuracy: 0.9984 - val_loss: 0.0372 - val_accuracy: 0.9934\n",
            "Epoch 60/60\n",
            "1196/1196 [==============================] - 6s 5ms/step - loss: 0.0101 - accuracy: 0.9984 - val_loss: 0.0324 - val_accuracy: 0.9938\n"
          ],
          "name": "stdout"
        }
      ]
    },
    {
      "cell_type": "code",
      "metadata": {
        "colab": {
          "base_uri": "https://localhost:8080/",
          "height": 585
        },
        "id": "CNF7gF-lS39o",
        "outputId": "2cbf5dfa-143e-4c37-ee96-d14f98110a32"
      },
      "source": [
        "# Plot training & validation accuracy values\n",
        "plt.plot(EMCRISPRstruct_history.history['accuracy'],'b')\n",
        "plt.plot(EMCRISPRstruct_history.history['val_accuracy'],'r')\n",
        "plt.title('EMCRISPRstruct model accuracy')\n",
        "plt.ylabel('Accuracy')\n",
        "plt.xlabel('Epoch')\n",
        "plt.legend(['Train', 'Test'], loc='upper right')\n",
        "plt.show()\n",
        "\n",
        "# Plot training & validation loss values\n",
        "plt.plot(EMCRISPRstruct_history.history['loss'],'b')\n",
        "plt.plot(EMCRISPRstruct_history.history['val_loss'],'r')\n",
        "plt.title('EMCRISPRstruct model loss')\n",
        "plt.ylabel('Loss')\n",
        "plt.xlabel('Epochs')\n",
        "plt.legend(['Train', 'Test'], loc='upper right')\n",
        "plt.show()"
      ],
      "execution_count": 155,
      "outputs": [
        {
          "output_type": "display_data",
          "data": {
            "image/png": "[encoded data removed]",
            "text/plain": [
              "<Figure size 432x288 with 1 Axes>"
            ]
          },
          "metadata": {
            "tags": [],
            "needs_background": "light"
          }
        },
        {
          "output_type": "display_data",
          "data": {
            "image/png": "[encoded data removed]",
            "text/plain": [
              "<Figure size 432x288 with 1 Axes>"
            ]
          },
          "metadata": {
            "tags": [],
            "needs_background": "light"
          }
        }
      ]
    },
    {
      "cell_type": "code",
      "metadata": {
        "colab": {
          "base_uri": "https://localhost:8080/"
        },
        "id": "K6eI4GPtSig6",
        "outputId": "46fde1ef-6f9a-4bef-8ab1-22e248e56fb6"
      },
      "source": [
        "# Getting score metrics from our model\n",
        "EMCRISPRstruct_scores = EMCRISPRstructV2.evaluate([X_testLeft, X_testRight], [y_testLeft, y_testRight], verbose=0)\n",
        "# Displays the accuracy of correct sentiment prediction over test data\n",
        "print(\"Accuracy: %.2f%%\" % (EMCRISPRstruct_scores[1]*100))"
      ],
      "execution_count": 156,
      "outputs": [
        {
          "output_type": "stream",
          "text": [
            "Accuracy: 99.38%\n"
          ],
          "name": "stdout"
        }
      ]
    },
    {
      "cell_type": "code",
      "metadata": {
        "colab": {
          "base_uri": "https://localhost:8080/"
        },
        "id": "v2On-8KGXZ18",
        "outputId": "517cec7a-fdce-4a8c-8552-a6ec35df79e2"
      },
      "source": [
        "print(\"[INFO] Predicciones del dataset de entrenamiento...\")\r\n",
        "predicsOnTrain = EMCRISPRstructV2.predict([X_trainLeft[:5], X_trainRight[:5]])\r\n",
        "predicsOnTrain"
      ],
      "execution_count": 42,
      "outputs": [
        {
          "output_type": "stream",
          "text": [
            "[INFO] Predicciones del dataset de entrenamiento...\n"
          ],
          "name": "stdout"
        },
        {
          "output_type": "execute_result",
          "data": {
            "text/plain": [
              "array([[1.000000e+00],\n",
              "       [1.000000e+00],\n",
              "       [1.000000e+00],\n",
              "       [5.237225e-05],\n",
              "       [1.000000e+00]], dtype=float32)"
            ]
          },
          "metadata": {
            "tags": []
          },
          "execution_count": 42
        }
      ]
    },
    {
      "cell_type": "code",
      "metadata": {
        "colab": {
          "base_uri": "https://localhost:8080/",
          "height": 317
        },
        "id": "zhHgXCZETJa4",
        "outputId": "75629b82-cbdf-4b3f-8dcd-9c259972772c"
      },
      "source": [
        "sns.scatterplot(data=predicsOnTrain, legend=False)\r\n",
        "plt.title('Predicciones para estructuras CRISPR')\r\n",
        "# Set x-axis label\r\n",
        "plt.xlabel('Probabilidad de clasificación binaria')\r\n",
        "# Set y-axis label\r\n",
        "plt.ylabel('Estructuras CRISPR analizadas')"
      ],
      "execution_count": null,
      "outputs": [
        {
          "output_type": "execute_result",
          "data": {
            "text/plain": [
              "Text(0, 0.5, 'Estructuras CRISPR analizadas')"
            ]
          },
          "metadata": {
            "tags": []
          },
          "execution_count": 188
        },
        {
          "output_type": "display_data",
          "data": {
            "image/png": "[encoded data removed]",
            "text/plain": [
              "<Figure size 432x288 with 1 Axes>"
            ]
          },
          "metadata": {
            "tags": [],
            "needs_background": "light"
          }
        }
      ]
    },
    {
      "cell_type": "code",
      "metadata": {
        "colab": {
          "base_uri": "https://localhost:8080/"
        },
        "id": "or3XYtyLowTf",
        "outputId": "e959c596-c765-4e59-956d-0b4aa2ac9f2e"
      },
      "source": [
        "print(\"[INFO] Verificación de etiquetas predichas en train...\")\r\n",
        "print(\"\\nEtiquetas reales de DR en extremo 5':\\n\",y_trainLeft[:5])\r\n",
        "print(\"\\nEtiquetas reales de DR en extremo 3':\\n\",y_trainRight[:5])"
      ],
      "execution_count": null,
      "outputs": [
        {
          "output_type": "stream",
          "text": [
            "[INFO] Verificación de etiquetas predichas en train...\n",
            "\n",
            "Etiquetas reales de DR en extremo 5':\n",
            " [1. 1. 1. 0. 1.]\n",
            "\n",
            "Etiquetas reales de DR en extremo 3':\n",
            " [1. 1. 1. 0. 1.]\n"
          ],
          "name": "stdout"
        }
      ]
    },
    {
      "cell_type": "code",
      "metadata": {
        "colab": {
          "base_uri": "https://localhost:8080/"
        },
        "id": "F1t3zCeriyQq",
        "outputId": "c59feabf-ad89-4295-e258-d6fe846fe930"
      },
      "source": [
        "print(\"[INFO] Predicciones del dataset de prueba...\")\r\n",
        "predicsOnTest = EMCRISPRstructV2.predict([X_testLeft[:5], X_testRight[:5]])\r\n",
        "predicsOnTest"
      ],
      "execution_count": null,
      "outputs": [
        {
          "output_type": "stream",
          "text": [
            "[INFO] Predicciones del dataset de prueba...\n"
          ],
          "name": "stdout"
        },
        {
          "output_type": "execute_result",
          "data": {
            "text/plain": [
              "array([[2.9257748e-14],\n",
              "       [1.0000000e+00],\n",
              "       [9.9986291e-01],\n",
              "       [5.6013903e-15],\n",
              "       [9.9999809e-01]], dtype=float32)"
            ]
          },
          "metadata": {
            "tags": []
          },
          "execution_count": 145
        }
      ]
    },
    {
      "cell_type": "code",
      "metadata": {
        "colab": {
          "base_uri": "https://localhost:8080/",
          "height": 317
        },
        "id": "HXc0hBulTPfQ",
        "outputId": "c8eeb0e0-dc50-4896-9da4-b9028bb4c23d"
      },
      "source": [
        "sns.scatterplot(data=predicsOnTest, legend=False)\r\n",
        "plt.title('Predicciones para estructuras CRISPR')\r\n",
        "# Set x-axis label\r\n",
        "plt.xlabel('Estructuras CRISPR analizadas')\r\n",
        "# Set y-axis label\r\n",
        "plt.ylabel('Probabilidad de clasificación binaria')"
      ],
      "execution_count": null,
      "outputs": [
        {
          "output_type": "execute_result",
          "data": {
            "text/plain": [
              "Text(0, 0.5, 'Probabilidad de clasificación binaria')"
            ]
          },
          "metadata": {
            "tags": []
          },
          "execution_count": 146
        },
        {
          "output_type": "display_data",
          "data": {
            "image/png": "[encoded data removed]",
            "text/plain": [
              "<Figure size 432x288 with 1 Axes>"
            ]
          },
          "metadata": {
            "tags": []
          }
        }
      ]
    },
    {
      "cell_type": "code",
      "metadata": {
        "colab": {
          "base_uri": "https://localhost:8080/"
        },
        "id": "2tTFMLj_jUBL",
        "outputId": "07a851c8-3776-468f-94d7-89031d7ebf56"
      },
      "source": [
        "print(\"[INFO] Verificación de etiquetas predichas en test de prueba...\")\r\n",
        "print(\"\\nEtiquetas reales de DR en extremo 5':\\n\",y_testLeft[:5])\r\n",
        "print(\"\\nEtiquetas reales de DR en extremo 3':\\n\",y_testRight[:5])"
      ],
      "execution_count": null,
      "outputs": [
        {
          "output_type": "stream",
          "text": [
            "[INFO] Verificación de etiquetas predichas en test de prueba...\n",
            "\n",
            "Etiquetas reales de DR en extremo 5':\n",
            " [0. 1. 1. 0. 1.]\n",
            "\n",
            "Etiquetas reales de DR en extremo 3':\n",
            " [0. 1. 1. 0. 1.]\n"
          ],
          "name": "stdout"
        }
      ]
    },
    {
      "cell_type": "markdown",
      "metadata": {
        "id": "hB-XkJkJqCCL"
      },
      "source": [
        "## Guardando el modelo final Ensemble Model CRISPR Struct (EMCRISPRstruct)"
      ]
    },
    {
      "cell_type": "code",
      "metadata": {
        "colab": {
          "base_uri": "https://localhost:8080/"
        },
        "id": "B6dz4fkSqFPw",
        "outputId": "66442957-410f-4380-d2e2-1d9747783cfd"
      },
      "source": [
        "# Save the Modle to file in the current working directory\r\n",
        "# serialize to JSON\r\n",
        "joblib_EMCRISPRstruct = \"EMCRISPRstruct_finalmodelV2-60epochs.hdf5\"  \r\n",
        "joblib.dump('EMCRISPRstructV2', joblib_EMCRISPRstruct)"
      ],
      "execution_count": null,
      "outputs": [
        {
          "output_type": "execute_result",
          "data": {
            "text/plain": [
              "['EMCRISPRstruct_finalmodelV2-60epochs.hdf5']"
            ]
          },
          "metadata": {
            "tags": []
          },
          "execution_count": 102
        }
      ]
    },
    {
      "cell_type": "code",
      "metadata": {
        "id": "PFNWHYS0hR-6"
      },
      "source": [
        "# Import pickle Package\n",
        "import pickle\n",
        "# Save the Modle to file in the current working directory\n",
        "EMCRISPRstruct_pkl= \"EMCRISPRstruct_finalmodelV2-60epochs.pkl\"  \n",
        "\n",
        "with open(EMCRISPRstruct_pkl, 'wb') as file:  \n",
        "    pickle.dump('EMCRISPRstructV2', file)\n"
      ],
      "execution_count": null,
      "outputs": []
    },
    {
      "cell_type": "markdown",
      "metadata": {
        "id": "CHNwQBQAxPVK"
      },
      "source": [
        "# Pruebas del modelo ensamblado para estructuras CRISPR (EMCRISPRstruct)\r\n",
        "---"
      ]
    },
    {
      "cell_type": "markdown",
      "metadata": {
        "id": "l9xZOqyMCBhK"
      },
      "source": [
        "###Clasificación de estructuras CRISPR reales con su spacer correspondiente y de una longitud de 111 nucleótidos."
      ]
    },
    {
      "cell_type": "code",
      "metadata": {
        "colab": {
          "resources": {
            "http://localhost:8080/nbextensions/google.colab/files.js": {
              "data": "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",
              "headers": [
                [
                  "content-type",
                  "application/javascript"
                ]
              ],
              "ok": true,
              "status": 200,
              "status_text": ""
            }
          },
          "base_uri": "https://localhost:8080/",
          "height": 70
        },
        "id": "emdVLhp9CpxE",
        "outputId": "8a3864da-0f98-40a1-f6ca-c3c7947b35c3"
      },
      "source": [
        "#Load local trined model for testing\r\n",
        "## Reading the data\r\n",
        "from google.colab import files\r\n",
        "uploaded = files.upload()"
      ],
      "execution_count": null,
      "outputs": [
        {
          "output_type": "display_data",
          "data": {
            "text/html": [
              "\n",
              "     <input type=\"file\" id=\"files-e0d6f241-ba45-4ebd-b336-a2c81de65703\" name=\"files[]\" multiple disabled\n",
              "        style=\"border:none\" />\n",
              "     <output id=\"result-e0d6f241-ba45-4ebd-b336-a2c81de65703\">\n",
              "      Upload widget is only available when the cell has been executed in the\n",
              "      current browser session. Please rerun this cell to enable.\n",
              "      </output>\n",
              "      <script src=\"/nbextensions/google.colab/files.js\"></script> "
            ],
            "text/plain": [
              "<IPython.core.display.HTML object>"
            ]
          },
          "metadata": {
            "tags": []
          }
        },
        {
          "output_type": "stream",
          "text": [
            "Saving best2_EMCRISPRstructV2-60epochs.hdf5 to best2_EMCRISPRstructV2-60epochs.hdf5\n"
          ],
          "name": "stdout"
        }
      ]
    },
    {
      "cell_type": "code",
      "metadata": {
        "colab": {
          "resources": {
            "http://localhost:8080/nbextensions/google.colab/files.js": {
              "data": "Ly8gQ29weXJpZ2h0IDIwMTcgR29vZ2xlIExMQwovLwovLyBMaWNlbnNlZCB1bmRlciB0aGUgQXBhY2hlIExpY2Vuc2UsIFZlcnNpb24gMi4wICh0aGUgIkxpY2Vuc2UiKTsKLy8geW91IG1heSBub3QgdXNlIHRoaXMgZmlsZSBleGNlcHQgaW4gY29tcGxpYW5jZSB3aXRoIHRoZSBMaWNlbnNlLgovLyBZb3UgbWF5IG9idGFpbiBhIGNvcHkgb2YgdGhlIExpY2Vuc2UgYXQKLy8KLy8gICAgICBodHRwOi8vd3d3LmFwYWNoZS5vcmcvbGljZW5zZXMvTElDRU5TRS0yLjAKLy8KLy8gVW5sZXNzIHJlcXVpcmVkIGJ5IGFwcGxpY2FibGUgbGF3IG9yIGFncmVlZCB0byBpbiB3cml0aW5nLCBzb2Z0d2FyZQovLyBkaXN0cmlidXRlZCB1bmRlciB0aGUgTGljZW5zZSBpcyBkaXN0cmlidXRlZCBvbiBhbiAiQVMgSVMiIEJBU0lTLAovLyBXSVRIT1VUIFdBUlJBTlRJRVMgT1IgQ09ORElUSU9OUyBPRiBBTlkgS0lORCwgZWl0aGVyIGV4cHJlc3Mgb3IgaW1wbGllZC4KLy8gU2VlIHRoZSBMaWNlbnNlIGZvciB0aGUgc3BlY2lmaWMgbGFuZ3VhZ2UgZ292ZXJuaW5nIHBlcm1pc3Npb25zIGFuZAovLyBsaW1pdGF0aW9ucyB1bmRlciB0aGUgTGljZW5zZS4KCi8qKgogKiBAZmlsZW92ZXJ2aWV3IEhlbHBlcnMgZm9yIGdvb2dsZS5jb2xhYiBQeXRob24gbW9kdWxlLgogKi8KKGZ1bmN0aW9uKHNjb3BlKSB7CmZ1bmN0aW9uIHNwYW4odGV4dCwgc3R5bGVBdHRyaWJ1dGVzID0ge30pIHsKICBjb25zdCBlbGVtZW50ID0gZG9jdW1lbnQuY3JlYXRlRWxlbWVudCgnc3BhbicpOwogIGVsZW1lbnQudGV4dENvbnRlbnQgPSB0ZXh0OwogIGZvciAoY29uc3Qga2V5IG9mIE9iamVjdC5rZXlzKHN0eWxlQXR0cmlidXRlcykpIHsKICAgIGVsZW1lbnQuc3R5bGVba2V5XSA9IHN0eWxlQXR0cmlidXRlc1trZXldOwogIH0KICByZXR1cm4gZWxlbWVudDsKfQoKLy8gTWF4IG51bWJlciBvZiBieXRlcyB3aGljaCB3aWxsIGJlIHVwbG9hZGVkIGF0IGEgdGltZS4KY29uc3QgTUFYX1BBWUxPQURfU0laRSA9IDEwMCAqIDEwMjQ7CgpmdW5jdGlvbiBfdXBsb2FkRmlsZXMoaW5wdXRJZCwgb3V0cHV0SWQpIHsKICBjb25zdCBzdGVwcyA9IHVwbG9hZEZpbGVzU3RlcChpbnB1dElkLCBvdXRwdXRJZCk7CiAgY29uc3Qgb3V0cHV0RWxlbWVudCA9IGRvY3VtZW50LmdldEVsZW1lbnRCeUlkKG91dHB1dElkKTsKICAvLyBDYWNoZSBzdGVwcyBvbiB0aGUgb3V0cHV0RWxlbWVudCB0byBtYWtlIGl0IGF2YWlsYWJsZSBmb3IgdGhlIG5leHQgY2FsbAogIC8vIHRvIHVwbG9hZEZpbGVzQ29udGludWUgZnJvbSBQeXRob24uCiAgb3V0cHV0RWxlbWVudC5zdGVwcyA9IHN0ZXBzOwoKICByZXR1cm4gX3VwbG9hZEZpbGVzQ29udGludWUob3V0cHV0SWQpOwp9CgovLyBUaGlzIGlzIHJvdWdobHkgYW4gYXN5bmMgZ2VuZXJhdG9yIChub3Qgc3VwcG9ydGVkIGluIHRoZSBicm93c2VyIHlldCksCi8vIHdoZXJlIHRoZXJlIGFyZSBtdWx0aXBsZSBhc3luY2hyb25vdXMgc3RlcHMgYW5kIHRoZSBQeXRob24gc2lkZSBpcyBnb2luZwovLyB0byBwb2xsIGZvciBjb21wbGV0aW9uIG9mIGVhY2ggc3RlcC4KLy8gVGhpcyB1c2VzIGEgUHJvbWlzZSB0byBibG9jayB0aGUgcHl0aG9uIHNpZGUgb24gY29tcGxldGlvbiBvZiBlYWNoIHN0ZXAsCi8vIHRoZW4gcGFzc2VzIHRoZSByZXN1bHQgb2YgdGhlIHByZXZpb3VzIHN0ZXAgYXMgdGhlIGlucHV0IHRvIHRoZSBuZXh0IHN0ZXAuCmZ1bmN0aW9uIF91cGxvYWRGaWxlc0NvbnRpbnVlKG91dHB1dElkKSB7CiAgY29uc3Qgb3V0cHV0RWxlbWVudCA9IGRvY3VtZW50LmdldEVsZW1lbnRCeUlkKG91dHB1dElkKTsKICBjb25zdCBzdGVwcyA9IG91dHB1dEVsZW1lbnQuc3RlcHM7CgogIGNvbnN0IG5leHQgPSBzdGVwcy5uZXh0KG91dHB1dEVsZW1lbnQubGFzdFByb21pc2VWYWx1ZSk7CiAgcmV0dXJuIFByb21pc2UucmVzb2x2ZShuZXh0LnZhbHVlLnByb21pc2UpLnRoZW4oKHZhbHVlKSA9PiB7CiAgICAvLyBDYWNoZSB0aGUgbGFzdCBwcm9taXNlIHZhbHVlIHRvIG1ha2UgaXQgYXZhaWxhYmxlIHRvIHRoZSBuZXh0CiAgICAvLyBzdGVwIG9mIHRoZSBnZW5lcmF0b3IuCiAgICBvdXRwdXRFbGVtZW50Lmxhc3RQcm9taXNlVmFsdWUgPSB2YWx1ZTsKICAgIHJldHVybiBuZXh0LnZhbHVlLnJlc3BvbnNlOwogIH0pOwp9CgovKioKICogR2VuZXJhdG9yIGZ1bmN0aW9uIHdoaWNoIGlzIGNhbGxlZCBiZXR3ZWVuIGVhY2ggYXN5bmMgc3RlcCBvZiB0aGUgdXBsb2FkCiAqIHByb2Nlc3MuCiAqIEBwYXJhbSB7c3RyaW5nfSBpbnB1dElkIEVsZW1lbnQgSUQgb2YgdGhlIGlucHV0IGZpbGUgcGlja2VyIGVsZW1lbnQuCiAqIEBwYXJhbSB7c3RyaW5nfSBvdXRwdXRJZCBFbGVtZW50IElEIG9mIHRoZSBvdXRwdXQgZGlzcGxheS4KICogQHJldHVybiB7IUl0ZXJhYmxlPCFPYmplY3Q+fSBJdGVyYWJsZSBvZiBuZXh0IHN0ZXBzLgogKi8KZnVuY3Rpb24qIHVwbG9hZEZpbGVzU3RlcChpbnB1dElkLCBvdXRwdXRJZCkgewogIGNvbnN0IGlucHV0RWxlbWVudCA9IGRvY3VtZW50LmdldEVsZW1lbnRCeUlkKGlucHV0SWQpOwogIGlucHV0RWxlbWVudC5kaXNhYmxlZCA9IGZhbHNlOwoKICBjb25zdCBvdXRwdXRFbGVtZW50ID0gZG9jdW1lbnQuZ2V0RWxlbWVudEJ5SWQob3V0cHV0SWQpOwogIG91dHB1dEVsZW1lbnQuaW5uZXJIVE1MID0gJyc7CgogIGNvbnN0IHBpY2tlZFByb21pc2UgPSBuZXcgUHJvbWlzZSgocmVzb2x2ZSkgPT4gewogICAgaW5wdXRFbGVtZW50LmFkZEV2ZW50TGlzdGVuZXIoJ2NoYW5nZScsIChlKSA9PiB7CiAgICAgIHJlc29sdmUoZS50YXJnZXQuZmlsZXMpOwogICAgfSk7CiAgfSk7CgogIGNvbnN0IGNhbmNlbCA9IGRvY3VtZW50LmNyZWF0ZUVsZW1lbnQoJ2J1dHRvbicpOwogIGlucHV0RWxlbWVudC5wYXJlbnRFbGVtZW50LmFwcGVuZENoaWxkKGNhbmNlbCk7CiAgY2FuY2VsLnRleHRDb250ZW50ID0gJ0NhbmNlbCB1cGxvYWQnOwogIGNvbnN0IGNhbmNlbFByb21pc2UgPSBuZXcgUHJvbWlzZSgocmVzb2x2ZSkgPT4gewogICAgY2FuY2VsLm9uY2xpY2sgPSAoKSA9PiB7CiAgICAgIHJlc29sdmUobnVsbCk7CiAgICB9OwogIH0pOwoKICAvLyBXYWl0IGZvciB0aGUgdXNlciB0byBwaWNrIHRoZSBmaWxlcy4KICBjb25zdCBmaWxlcyA9IHlpZWxkIHsKICAgIHByb21pc2U6IFByb21pc2UucmFjZShbcGlja2VkUHJvbWlzZSwgY2FuY2VsUHJvbWlzZV0pLAogICAgcmVzcG9uc2U6IHsKICAgICAgYWN0aW9uOiAnc3RhcnRpbmcnLAogICAgfQogIH07CgogIGNhbmNlbC5yZW1vdmUoKTsKCiAgLy8gRGlzYWJsZSB0aGUgaW5wdXQgZWxlbWVudCBzaW5jZSBmdXJ0aGVyIHBpY2tzIGFyZSBub3QgYWxsb3dlZC4KICBpbnB1dEVsZW1lbnQuZGlzYWJsZWQgPSB0cnVlOwoKICBpZiAoIWZpbGVzKSB7CiAgICByZXR1cm4gewogICAgICByZXNwb25zZTogewogICAgICAgIGFjdGlvbjogJ2NvbXBsZXRlJywKICAgICAgfQogICAgfTsKICB9CgogIGZvciAoY29uc3QgZmlsZSBvZiBmaWxlcykgewogICAgY29uc3QgbGkgPSBkb2N1bWVudC5jcmVhdGVFbGVtZW50KCdsaScpOwogICAgbGkuYXBwZW5kKHNwYW4oZmlsZS5uYW1lLCB7Zm9udFdlaWdodDogJ2JvbGQnfSkpOwogICAgbGkuYXBwZW5kKHNwYW4oCiAgICAgICAgYCgke2ZpbGUudHlwZSB8fCAnbi9hJ30pIC0gJHtmaWxlLnNpemV9IGJ5dGVzLCBgICsKICAgICAgICBgbGFzdCBtb2RpZmllZDogJHsKICAgICAgICAgICAgZmlsZS5sYXN0TW9kaWZpZWREYXRlID8gZmlsZS5sYXN0TW9kaWZpZWREYXRlLnRvTG9jYWxlRGF0ZVN0cmluZygpIDoKICAgICAgICAgICAgICAgICAgICAgICAgICAgICAgICAgICAgJ24vYSd9IC0gYCkpOwogICAgY29uc3QgcGVyY2VudCA9IHNwYW4oJzAlIGRvbmUnKTsKICAgIGxpLmFwcGVuZENoaWxkKHBlcmNlbnQpOwoKICAgIG91dHB1dEVsZW1lbnQuYXBwZW5kQ2hpbGQobGkpOwoKICAgIGNvbnN0IGZpbGVEYXRhUHJvbWlzZSA9IG5ldyBQcm9taXNlKChyZXNvbHZlKSA9PiB7CiAgICAgIGNvbnN0IHJlYWRlciA9IG5ldyBGaWxlUmVhZGVyKCk7CiAgICAgIHJlYWRlci5vbmxvYWQgPSAoZSkgPT4gewogICAgICAgIHJlc29sdmUoZS50YXJnZXQucmVzdWx0KTsKICAgICAgfTsKICAgICAgcmVhZGVyLnJlYWRBc0FycmF5QnVmZmVyKGZpbGUpOwogICAgfSk7CiAgICAvLyBXYWl0IGZvciB0aGUgZGF0YSB0byBiZSByZWFkeS4KICAgIGxldCBmaWxlRGF0YSA9IHlpZWxkIHsKICAgICAgcHJvbWlzZTogZmlsZURhdGFQcm9taXNlLAogICAgICByZXNwb25zZTogewogICAgICAgIGFjdGlvbjogJ2NvbnRpbnVlJywKICAgICAgfQogICAgfTsKCiAgICAvLyBVc2UgYSBjaHVua2VkIHNlbmRpbmcgdG8gYXZvaWQgbWVzc2FnZSBzaXplIGxpbWl0cy4gU2VlIGIvNjIxMTU2NjAuCiAgICBsZXQgcG9zaXRpb24gPSAwOwogICAgd2hpbGUgKHBvc2l0aW9uIDwgZmlsZURhdGEuYnl0ZUxlbmd0aCkgewogICAgICBjb25zdCBsZW5ndGggPSBNYXRoLm1pbihmaWxlRGF0YS5ieXRlTGVuZ3RoIC0gcG9zaXRpb24sIE1BWF9QQVlMT0FEX1NJWkUpOwogICAgICBjb25zdCBjaHVuayA9IG5ldyBVaW50OEFycmF5KGZpbGVEYXRhLCBwb3NpdGlvbiwgbGVuZ3RoKTsKICAgICAgcG9zaXRpb24gKz0gbGVuZ3RoOwoKICAgICAgY29uc3QgYmFzZTY0ID0gYnRvYShTdHJpbmcuZnJvbUNoYXJDb2RlLmFwcGx5KG51bGwsIGNodW5rKSk7CiAgICAgIHlpZWxkIHsKICAgICAgICByZXNwb25zZTogewogICAgICAgICAgYWN0aW9uOiAnYXBwZW5kJywKICAgICAgICAgIGZpbGU6IGZpbGUubmFtZSwKICAgICAgICAgIGRhdGE6IGJhc2U2NCwKICAgICAgICB9LAogICAgICB9OwogICAgICBwZXJjZW50LnRleHRDb250ZW50ID0KICAgICAgICAgIGAke01hdGgucm91bmQoKHBvc2l0aW9uIC8gZmlsZURhdGEuYnl0ZUxlbmd0aCkgKiAxMDApfSUgZG9uZWA7CiAgICB9CiAgfQoKICAvLyBBbGwgZG9uZS4KICB5aWVsZCB7CiAgICByZXNwb25zZTogewogICAgICBhY3Rpb246ICdjb21wbGV0ZScsCiAgICB9CiAgfTsKfQoKc2NvcGUuZ29vZ2xlID0gc2NvcGUuZ29vZ2xlIHx8IHt9OwpzY29wZS5nb29nbGUuY29sYWIgPSBzY29wZS5nb29nbGUuY29sYWIgfHwge307CnNjb3BlLmdvb2dsZS5jb2xhYi5fZmlsZXMgPSB7CiAgX3VwbG9hZEZpbGVzLAogIF91cGxvYWRGaWxlc0NvbnRpbnVlLAp9Owp9KShzZWxmKTsK",
              "ok": true,
              "headers": [
                [
                  "content-type",
                  "application/javascript"
                ]
              ],
              "status": 200,
              "status_text": ""
            }
          },
          "base_uri": "https://localhost:8080/",
          "height": 70
        },
        "id": "96a2sXYUCAs_",
        "outputId": "6c904f59-c61f-4a1d-e290-c197db8b998d"
      },
      "source": [
        "#Load local FASTA file for testing (Reals CRISPR structs)\r\n",
        "## Reading the data\r\n",
        "from google.colab import files\r\n",
        "uploaded = files.upload()"
      ],
      "execution_count": 45,
      "outputs": [
        {
          "output_type": "display_data",
          "data": {
            "text/html": [
              "\n",
              "     <input type=\"file\" id=\"files-73847943-2d61-4434-8055-710dcf11d235\" name=\"files[]\" multiple disabled\n",
              "        style=\"border:none\" />\n",
              "     <output id=\"result-73847943-2d61-4434-8055-710dcf11d235\">\n",
              "      Upload widget is only available when the cell has been executed in the\n",
              "      current browser session. Please rerun this cell to enable.\n",
              "      </output>\n",
              "      <script src=\"/nbextensions/google.colab/files.js\"></script> "
            ],
            "text/plain": [
              "<IPython.core.display.HTML object>"
            ]
          },
          "metadata": {
            "tags": []
          }
        },
        {
          "output_type": "stream",
          "text": [
            "Saving Input_test-EMcrisprstruct.fasta to Input_test-EMcrisprstruct.fasta\n"
          ],
          "name": "stdout"
        }
      ]
    },
    {
      "cell_type": "code",
      "metadata": {
        "colab": {
          "base_uri": "https://localhost:8080/",
          "height": 772
        },
        "id": "tF2eMn61WwN1",
        "outputId": "7dc6af3a-d49c-4c77-8cd1-30d14fa70ce1"
      },
      "source": [
        "#Parámetros definidos por el usuario final\r\n",
        "CSlen = 111  #Longitud de las estructuras CRISPR extraídas de la secuencia bacteriana\r\n",
        "DRlen = 36   #Longitud recomendada del repetidor a extraer de las estructuras CRISPR\r\n",
        "\r\n",
        "#Archivo de entrada\r\n",
        "fastaInput = \"InputtestPositive111nt.fasta\"\r\n",
        "\r\n",
        "#Llamada de la función principal para predicciones desde un archivo de entrada\r\n",
        "InputUserData(fastaInput)"
      ],
      "execution_count": 159,
      "outputs": [
        {
          "output_type": "stream",
          "text": [
            "[INFO] Cantidad de estructuras CRISPR:  10\n",
            "[INFO] Extracción de los DR en los extremos en las CRISPRstructs finalizado...\n",
            "\n",
            "[INFO] Transformación de secuencias a datos numéricos finalizada (0-8)...\n",
            "\n",
            "[INFO] Padding (post) and truncate (pre) for length inputs sequences finished...\n",
            "[INFO] Transformación de vector de secuencias a one-hot encoding (Lx8) finalizada...\n",
            "\n",
            "[INFO] Dimensión de la matriz one-hot enconding para secuencias:  (10, 36, 8)\n",
            "[INFO] Codificación de los DR en el extremo izquierda finalizada...\n",
            "\n",
            "\n",
            "\n",
            "[INFO] Transformación de secuencias a datos numéricos (0-8) finalizada...\n",
            "\n",
            "[INFO] Padding (pre) and truncate (pre) for length inputs sequences finished...\n",
            "[INFO] Transformación de vector de secuencias a one-hot encoding (Lx8) finalizada...\n",
            "\n",
            "[INFO] Dimensión de la matriz one-hot enconding para secuencias:  (10, 36, 8)\n",
            "[INFO] Codificación de los DR en el extremo derecho finalizada...\n",
            "\n",
            "\n",
            "[INFO] Inicializando predicciones de las estructuras de entrada...\n",
            "\n",
            "\n",
            "Visualización de las predicciones de las estructuras CRISPR de entrada:\n",
            "\n",
            "PredictedSpacers-EMCRISPRstruct.fasta\n",
            "[INFO] Archivo de salida (FASTA) con spacer predichos finalizado...\n"
          ],
          "name": "stdout"
        },
        {
          "output_type": "display_data",
          "data": {
            "image/png": "[encoded data removed]",
            "text/plain": [
              "<Figure size 432x288 with 1 Axes>"
            ]
          },
          "metadata": {
            "tags": [],
            "needs_background": "light"
          }
        }
      ]
    },
    {
      "cell_type": "code",
      "metadata": {
        "colab": {
          "base_uri": "https://localhost:8080/",
          "height": 772
        },
        "id": "y6w70b6ZLQTO",
        "outputId": "1ef38cd3-8adc-49ae-ea47-7fa39b71a851"
      },
      "source": [
        "#Parámetros definidos por el usuario final\r\n",
        "CSlen = 111  #Longitud de las estructuras CRISPR extraídas de la secuencia bacteriana\r\n",
        "DRlen = 36   #Longitud recomendada del repetidor a extraer de las estructuras CRISPR\r\n",
        "\r\n",
        "#Archivo de entrada\r\n",
        "fastaInput2 = \"Input_test-EMcrisprstruct.fasta\"\r\n",
        "\r\n",
        "InputUserData(fastaInput2)"
      ],
      "execution_count": 158,
      "outputs": [
        {
          "output_type": "stream",
          "text": [
            "[INFO] Cantidad de estructuras CRISPR:  10\n",
            "[INFO] Extracción de los DR en los extremos en las CRISPRstructs finalizado...\n",
            "\n",
            "[INFO] Transformación de secuencias a datos numéricos finalizada (0-8)...\n",
            "\n",
            "[INFO] Padding (post) and truncate (pre) for length inputs sequences finished...\n",
            "[INFO] Transformación de vector de secuencias a one-hot encoding (Lx8) finalizada...\n",
            "\n",
            "[INFO] Dimensión de la matriz one-hot enconding para secuencias:  (10, 36, 8)\n",
            "[INFO] Codificación de los DR en el extremo izquierda finalizada...\n",
            "\n",
            "\n",
            "\n",
            "[INFO] Transformación de secuencias a datos numéricos (0-8) finalizada...\n",
            "\n",
            "[INFO] Padding (pre) and truncate (pre) for length inputs sequences finished...\n",
            "[INFO] Transformación de vector de secuencias a one-hot encoding (Lx8) finalizada...\n",
            "\n",
            "[INFO] Dimensión de la matriz one-hot enconding para secuencias:  (10, 36, 8)\n",
            "[INFO] Codificación de los DR en el extremo derecho finalizada...\n",
            "\n",
            "\n",
            "[INFO] Inicializando predicciones de las estructuras de entrada...\n",
            "\n",
            "\n",
            "Visualización de las predicciones de las estructuras CRISPR de entrada:\n",
            "\n",
            "PredictedSpacers-EMCRISPRstruct.fasta\n",
            "[INFO] Archivo de salida (FASTA) con spacer predichos finalizado...\n"
          ],
          "name": "stdout"
        },
        {
          "output_type": "display_data",
          "data": {
            "image/png": "[encoded data removed]",
            "text/plain": [
              "<Figure size 432x288 with 1 Axes>"
            ]
          },
          "metadata": {
            "tags": [],
            "needs_background": "light"
          }
        }
      ]
    },
    {
      "cell_type": "markdown",
      "metadata": {
        "id": "Bew7MMPtc838"
      },
      "source": [
        "# Fin del pipeline"
      ]
    },
    {
      "cell_type": "markdown",
      "metadata": {
        "id": "qvEUcMLdXN2C"
      },
      "source": [
        "### Estadísticas de las longitudes de las secuencias en el dataset"
      ]
    },
    {
      "cell_type": "code",
      "metadata": {
        "colab": {
          "base_uri": "https://localhost:8080/",
          "height": 486
        },
        "id": "gkWuxGe8kdrj",
        "outputId": "3aed6e2a-820e-4336-b8d3-6f2d960cb0c0"
      },
      "source": [
        "### Estadísticas (conocer dimensiones de las secuencias en el dataset)\n",
        "# Array para almacenar las longitudes\n",
        "vectorlenDR = np.zeros(31990)\n",
        "# Cálculo de las longitudes de las secuencias\n",
        "vectorlenDR = StringLength(vectorlenDR, x_data)\n",
        "# Se eliminan los espacios vacíos con ceros\n",
        "vectorlenDR = np.trim_zeros(vectorlenDR)\n",
        "\n",
        "# Cálculo de medidas de tendencia de las longitudes\n",
        "print('[INFO] Total de secuencias en X_data: ', samples)\n",
        "print('\\nMayor númmero de nucleótidos en una secuencia: {:,.0f}'.format(np.max(vectorlenDR)))\n",
        "print('Menor número de nucleótidos en una secuencia: {:,.0f}'.format(np.min(vectorlenDR)))\n",
        "print('Media del núm de nucleótidos de DirectRepeat: {:,.2f}'.format(np.mean(vectorlenDR)))\n",
        "print('Mediana: ', np.median(vectorlenDR))\n",
        "print('Cuartil 25%: ', np.percentile(vectorlenDR, 25))\n",
        "print('Cuartil 50%: ', np.percentile(vectorlenDR, 50))\n",
        "print('Cuartil 75%: ', np.percentile(vectorlenDR, 75))\n",
        "print('Desviación estándar del núm de nucleótidos: {:,.2f}'.format(np.std(vectorlenDR)))\n",
        "print('Moda del núm de nucleótidos de DirectRepeat:\\n', stats.mode(vectorlenDR))\n",
        "\n",
        "sns.violinplot(data=vectorlenDR,inner='box')"
      ],
      "execution_count": null,
      "outputs": [
        {
          "output_type": "stream",
          "text": [
            "[INFO] Total de secuencias en X_data:  31990\n",
            "\n",
            "Mayor númmero de nucleótidos en una secuencia: 60\n",
            "Menor número de nucleótidos en una secuencia: 23\n",
            "Media del núm de nucleótidos de DirectRepeat: 33.25\n",
            "Mediana:  33.0\n",
            "Cuartil 25%:  29.0\n",
            "Cuartil 50%:  33.0\n",
            "Cuartil 75%:  36.0\n",
            "Desviación estándar del núm de nucleótidos: 4.46\n",
            "Moda del núm de nucleótidos de DirectRepeat:\n",
            " ModeResult(mode=array([29]), count=array([5872]))\n"
          ],
          "name": "stdout"
        },
        {
          "output_type": "execute_result",
          "data": {
            "text/plain": [
              "<matplotlib.axes._subplots.AxesSubplot at 0x7fe192991cc0>"
            ]
          },
          "metadata": {
            "tags": []
          },
          "execution_count": 11
        },
        {
          "output_type": "display_data",
          "data": {
            "image/png": "[encoded data removed]",
            "text/plain": [
              "<Figure size 432x288 with 1 Axes>"
            ]
          },
          "metadata": {
            "tags": []
          }
        }
      ]
    },
    {
      "cell_type": "markdown",
      "metadata": {
        "id": "s_O3hmCfD_fw"
      },
      "source": [
        "Referencias:\r\n",
        "\r\n",
        "\r\n",
        "\r\n",
        "*   https://www.pyimagesearch.com/2019/02/04/keras-multiple-inputs-and-mixed-data/\r\n",
        "*   https://github.com/keras-team/keras/issues/13021\r\n",
        "*   https://stackoverflow.com/questions/43150635/combining-the-outputs-of-multiple-models-into-one-model\r\n",
        "\r\n"
      ]
    }
  ]
}